{
 "cells": [
  {
   "cell_type": "markdown",
   "id": "2b8918cd",
   "metadata": {},
   "source": [
    "# Machine Learning\n",
    "\n",
    "---\n",
    "\n",
    "This notebook is for the machine learning of our dataset.\n",
    "\n",
    "Here is our problem definition:\n",
    "\n",
    "> (1) To predict if a customer will have a claim on their insurance policy.         \n",
    "> (2) To predict the claim cost for customers with claim(s).\n",
    "---"
   ]
  },
  {
   "cell_type": "markdown",
   "id": "54182e86",
   "metadata": {},
   "source": [
    "### Preparation\n",
    "\n",
    "First, we will import the necessary libraries that will be used in this notebook\n"
   ]
  },
  {
   "cell_type": "code",
   "execution_count": 2,
   "id": "63fc7d5c",
   "metadata": {},
   "outputs": [],
   "source": [
    "import numpy as np\n",
    "import pandas as pd\n",
    "import matplotlib.pyplot as plt\n",
    "import seaborn as sb\n",
    "sb.set()\n",
    "\n",
    "from sklearn.preprocessing import OneHotEncoder\n",
    "from sklearn.utils import resample\n",
    "from sklearn.model_selection import train_test_split\n",
    "from sklearn.linear_model import LogisticRegression\n",
    "from sklearn.metrics import confusion_matrix\n",
    "from sklearn.model_selection import GridSearchCV\n",
    "from sklearn.ensemble import RandomForestClassifier\n",
    "from sklearn.linear_model import PoissonRegressor\n",
    "from sklearn.pipeline import Pipeline\n",
    "from sklearn import metrics\n",
    "from sklearn.linear_model import LinearRegression\n",
    "from sklearn.metrics import mean_squared_error\n",
    "from sklearn.cluster import KMeans\n",
    "from sklearn.preprocessing import PolynomialFeatures\n",
    "from sklearn.linear_model import Ridge, Lasso"
   ]
  },
  {
   "cell_type": "markdown",
   "id": "d7905bab",
   "metadata": {},
   "source": [
    "---\n",
    "The cleaned data is imported as a DataFrame named `data`.\n",
    "\n"
   ]
  },
  {
   "cell_type": "code",
   "execution_count": 3,
   "id": "7f218f12",
   "metadata": {
    "scrolled": true
   },
   "outputs": [
    {
     "data": {
      "text/html": [
       "<div>\n",
       "<style scoped>\n",
       "    .dataframe tbody tr th:only-of-type {\n",
       "        vertical-align: middle;\n",
       "    }\n",
       "\n",
       "    .dataframe tbody tr th {\n",
       "        vertical-align: top;\n",
       "    }\n",
       "\n",
       "    .dataframe thead th {\n",
       "        text-align: right;\n",
       "    }\n",
       "</style>\n",
       "<table border=\"1\" class=\"dataframe\">\n",
       "  <thead>\n",
       "    <tr style=\"text-align: right;\">\n",
       "      <th></th>\n",
       "      <th>pol_eff_dt</th>\n",
       "      <th>gender</th>\n",
       "      <th>agecat</th>\n",
       "      <th>credit_score</th>\n",
       "      <th>area</th>\n",
       "      <th>traffic_index</th>\n",
       "      <th>veh_age</th>\n",
       "      <th>veh_body</th>\n",
       "      <th>veh_value</th>\n",
       "      <th>numclaims</th>\n",
       "      <th>claimcst0</th>\n",
       "      <th>month</th>\n",
       "      <th>year</th>\n",
       "      <th>monthDiff</th>\n",
       "      <th>claims</th>\n",
       "    </tr>\n",
       "  </thead>\n",
       "  <tbody>\n",
       "    <tr>\n",
       "      <th>0</th>\n",
       "      <td>12/30/2020</td>\n",
       "      <td>F</td>\n",
       "      <td>4.0</td>\n",
       "      <td>4.265979</td>\n",
       "      <td>D</td>\n",
       "      <td>65.811441</td>\n",
       "      <td>34.0</td>\n",
       "      <td>HBACK</td>\n",
       "      <td>1.331</td>\n",
       "      <td>0</td>\n",
       "      <td>0.0</td>\n",
       "      <td>12.0</td>\n",
       "      <td>2020.0</td>\n",
       "      <td>40.0</td>\n",
       "      <td>No</td>\n",
       "    </tr>\n",
       "    <tr>\n",
       "      <th>1</th>\n",
       "      <td>12/30/2020</td>\n",
       "      <td>F</td>\n",
       "      <td>2.0</td>\n",
       "      <td>38.558763</td>\n",
       "      <td>D</td>\n",
       "      <td>81.542373</td>\n",
       "      <td>1.0</td>\n",
       "      <td>UTE</td>\n",
       "      <td>3.740</td>\n",
       "      <td>0</td>\n",
       "      <td>0.0</td>\n",
       "      <td>12.0</td>\n",
       "      <td>2020.0</td>\n",
       "      <td>40.0</td>\n",
       "      <td>No</td>\n",
       "    </tr>\n",
       "    <tr>\n",
       "      <th>2</th>\n",
       "      <td>12/30/2020</td>\n",
       "      <td>M</td>\n",
       "      <td>2.0</td>\n",
       "      <td>58.971134</td>\n",
       "      <td>B</td>\n",
       "      <td>57.369174</td>\n",
       "      <td>100.0</td>\n",
       "      <td>COUPE</td>\n",
       "      <td>0.880</td>\n",
       "      <td>0</td>\n",
       "      <td>0.0</td>\n",
       "      <td>12.0</td>\n",
       "      <td>2020.0</td>\n",
       "      <td>40.0</td>\n",
       "      <td>No</td>\n",
       "    </tr>\n",
       "    <tr>\n",
       "      <th>3</th>\n",
       "      <td>12/30/2020</td>\n",
       "      <td>M</td>\n",
       "      <td>4.0</td>\n",
       "      <td>78.158763</td>\n",
       "      <td>B</td>\n",
       "      <td>48.559852</td>\n",
       "      <td>67.0</td>\n",
       "      <td>SEDAN</td>\n",
       "      <td>1.045</td>\n",
       "      <td>0</td>\n",
       "      <td>0.0</td>\n",
       "      <td>12.0</td>\n",
       "      <td>2020.0</td>\n",
       "      <td>40.0</td>\n",
       "      <td>No</td>\n",
       "    </tr>\n",
       "    <tr>\n",
       "      <th>4</th>\n",
       "      <td>12/30/2020</td>\n",
       "      <td>F</td>\n",
       "      <td>4.0</td>\n",
       "      <td>93.263918</td>\n",
       "      <td>C</td>\n",
       "      <td>56.320445</td>\n",
       "      <td>100.0</td>\n",
       "      <td>HBACK</td>\n",
       "      <td>0.473</td>\n",
       "      <td>0</td>\n",
       "      <td>0.0</td>\n",
       "      <td>12.0</td>\n",
       "      <td>2020.0</td>\n",
       "      <td>40.0</td>\n",
       "      <td>No</td>\n",
       "    </tr>\n",
       "  </tbody>\n",
       "</table>\n",
       "</div>"
      ],
      "text/plain": [
       "   pol_eff_dt gender  agecat  credit_score area  traffic_index  veh_age  \\\n",
       "0  12/30/2020      F     4.0      4.265979    D      65.811441     34.0   \n",
       "1  12/30/2020      F     2.0     38.558763    D      81.542373      1.0   \n",
       "2  12/30/2020      M     2.0     58.971134    B      57.369174    100.0   \n",
       "3  12/30/2020      M     4.0     78.158763    B      48.559852     67.0   \n",
       "4  12/30/2020      F     4.0     93.263918    C      56.320445    100.0   \n",
       "\n",
       "  veh_body  veh_value  numclaims  claimcst0  month    year  monthDiff claims  \n",
       "0    HBACK      1.331          0        0.0   12.0  2020.0       40.0     No  \n",
       "1      UTE      3.740          0        0.0   12.0  2020.0       40.0     No  \n",
       "2    COUPE      0.880          0        0.0   12.0  2020.0       40.0     No  \n",
       "3    SEDAN      1.045          0        0.0   12.0  2020.0       40.0     No  \n",
       "4    HBACK      0.473          0        0.0   12.0  2020.0       40.0     No  "
      ]
     },
     "execution_count": 3,
     "metadata": {},
     "output_type": "execute_result"
    }
   ],
   "source": [
    "data = pd.read_csv(\"Prepped.csv\")\n",
    "data.head()"
   ]
  },
  {
   "cell_type": "markdown",
   "id": "4667ab5c",
   "metadata": {},
   "source": [
    "---\n",
    "For our first problem, we will be using Binary Classification techniques to predict if a claim will be raised by a customer.\n",
    "\n",
    "Response variable: `claims`\n",
    "\n",
    "Before we perform classification, we will use `OneHotEncoding` to convert the categorical data to numerical data."
   ]
  },
  {
   "cell_type": "code",
   "execution_count": 3,
   "id": "1961cdbf",
   "metadata": {
    "scrolled": true
   },
   "outputs": [
    {
     "name": "stdout",
     "output_type": "stream",
     "text": [
      "<class 'pandas.core.frame.DataFrame'>\n",
      "RangeIndex: 54135 entries, 0 to 54134\n",
      "Data columns (total 27 columns):\n",
      " #   Column          Non-Null Count  Dtype  \n",
      "---  ------          --------------  -----  \n",
      " 0   gender_F        54135 non-null  float64\n",
      " 1   gender_M        54135 non-null  float64\n",
      " 2   agecat_1.0      54135 non-null  float64\n",
      " 3   agecat_2.0      54135 non-null  float64\n",
      " 4   agecat_3.0      54135 non-null  float64\n",
      " 5   agecat_4.0      54135 non-null  float64\n",
      " 6   agecat_5.0      54135 non-null  float64\n",
      " 7   agecat_6.0      54135 non-null  float64\n",
      " 8   area_A          54135 non-null  float64\n",
      " 9   area_B          54135 non-null  float64\n",
      " 10  area_C          54135 non-null  float64\n",
      " 11  area_D          54135 non-null  float64\n",
      " 12  area_E          54135 non-null  float64\n",
      " 13  area_F          54135 non-null  float64\n",
      " 14  veh_body_BUS    54135 non-null  float64\n",
      " 15  veh_body_CONVT  54135 non-null  float64\n",
      " 16  veh_body_COUPE  54135 non-null  float64\n",
      " 17  veh_body_HBACK  54135 non-null  float64\n",
      " 18  veh_body_HDTOP  54135 non-null  float64\n",
      " 19  veh_body_MCARA  54135 non-null  float64\n",
      " 20  veh_body_MIBUS  54135 non-null  float64\n",
      " 21  veh_body_PANVN  54135 non-null  float64\n",
      " 22  veh_body_RDSTR  54135 non-null  float64\n",
      " 23  veh_body_SEDAN  54135 non-null  float64\n",
      " 24  veh_body_STNWG  54135 non-null  float64\n",
      " 25  veh_body_TRUCK  54135 non-null  float64\n",
      " 26  veh_body_UTE    54135 non-null  float64\n",
      "dtypes: float64(27)\n",
      "memory usage: 11.2 MB\n"
     ]
    }
   ],
   "source": [
    "ohe = OneHotEncoder()\n",
    "\n",
    "data_cat = data[[\"gender\", \"agecat\", \"area\", \"veh_body\"]]\n",
    "ohe.fit(data_cat)\n",
    "data_cat_ohe = pd.DataFrame(ohe.transform(data_cat).toarray(),\n",
    "                           columns = ohe.get_feature_names_out(data_cat.columns))\n",
    "data_cat_ohe.info()"
   ]
  },
  {
   "cell_type": "code",
   "execution_count": 27,
   "id": "59380535",
   "metadata": {
    "scrolled": true
   },
   "outputs": [
    {
     "data": {
      "text/html": [
       "<div>\n",
       "<style scoped>\n",
       "    .dataframe tbody tr th:only-of-type {\n",
       "        vertical-align: middle;\n",
       "    }\n",
       "\n",
       "    .dataframe tbody tr th {\n",
       "        vertical-align: top;\n",
       "    }\n",
       "\n",
       "    .dataframe thead th {\n",
       "        text-align: right;\n",
       "    }\n",
       "</style>\n",
       "<table border=\"1\" class=\"dataframe\">\n",
       "  <thead>\n",
       "    <tr style=\"text-align: right;\">\n",
       "      <th></th>\n",
       "      <th>gender_F</th>\n",
       "      <th>gender_M</th>\n",
       "      <th>agecat_1.0</th>\n",
       "      <th>agecat_2.0</th>\n",
       "      <th>agecat_3.0</th>\n",
       "      <th>agecat_4.0</th>\n",
       "      <th>agecat_5.0</th>\n",
       "      <th>agecat_6.0</th>\n",
       "      <th>area_A</th>\n",
       "      <th>area_B</th>\n",
       "      <th>...</th>\n",
       "      <th>veh_body_RDSTR</th>\n",
       "      <th>veh_body_SEDAN</th>\n",
       "      <th>veh_body_STNWG</th>\n",
       "      <th>veh_body_TRUCK</th>\n",
       "      <th>veh_body_UTE</th>\n",
       "      <th>credit_score</th>\n",
       "      <th>traffic_index</th>\n",
       "      <th>veh_age</th>\n",
       "      <th>monthDiff</th>\n",
       "      <th>claims</th>\n",
       "    </tr>\n",
       "  </thead>\n",
       "  <tbody>\n",
       "    <tr>\n",
       "      <th>0</th>\n",
       "      <td>1.0</td>\n",
       "      <td>0.0</td>\n",
       "      <td>0.0</td>\n",
       "      <td>0.0</td>\n",
       "      <td>0.0</td>\n",
       "      <td>1.0</td>\n",
       "      <td>0.0</td>\n",
       "      <td>0.0</td>\n",
       "      <td>0.0</td>\n",
       "      <td>0.0</td>\n",
       "      <td>...</td>\n",
       "      <td>0.0</td>\n",
       "      <td>0.0</td>\n",
       "      <td>0.0</td>\n",
       "      <td>0.0</td>\n",
       "      <td>0.0</td>\n",
       "      <td>4.265979</td>\n",
       "      <td>65.811441</td>\n",
       "      <td>34.0</td>\n",
       "      <td>40.0</td>\n",
       "      <td>No</td>\n",
       "    </tr>\n",
       "    <tr>\n",
       "      <th>1</th>\n",
       "      <td>1.0</td>\n",
       "      <td>0.0</td>\n",
       "      <td>0.0</td>\n",
       "      <td>1.0</td>\n",
       "      <td>0.0</td>\n",
       "      <td>0.0</td>\n",
       "      <td>0.0</td>\n",
       "      <td>0.0</td>\n",
       "      <td>0.0</td>\n",
       "      <td>0.0</td>\n",
       "      <td>...</td>\n",
       "      <td>0.0</td>\n",
       "      <td>0.0</td>\n",
       "      <td>0.0</td>\n",
       "      <td>0.0</td>\n",
       "      <td>1.0</td>\n",
       "      <td>38.558763</td>\n",
       "      <td>81.542373</td>\n",
       "      <td>1.0</td>\n",
       "      <td>40.0</td>\n",
       "      <td>No</td>\n",
       "    </tr>\n",
       "    <tr>\n",
       "      <th>2</th>\n",
       "      <td>0.0</td>\n",
       "      <td>1.0</td>\n",
       "      <td>0.0</td>\n",
       "      <td>1.0</td>\n",
       "      <td>0.0</td>\n",
       "      <td>0.0</td>\n",
       "      <td>0.0</td>\n",
       "      <td>0.0</td>\n",
       "      <td>0.0</td>\n",
       "      <td>1.0</td>\n",
       "      <td>...</td>\n",
       "      <td>0.0</td>\n",
       "      <td>0.0</td>\n",
       "      <td>0.0</td>\n",
       "      <td>0.0</td>\n",
       "      <td>0.0</td>\n",
       "      <td>58.971134</td>\n",
       "      <td>57.369174</td>\n",
       "      <td>100.0</td>\n",
       "      <td>40.0</td>\n",
       "      <td>No</td>\n",
       "    </tr>\n",
       "    <tr>\n",
       "      <th>3</th>\n",
       "      <td>0.0</td>\n",
       "      <td>1.0</td>\n",
       "      <td>0.0</td>\n",
       "      <td>0.0</td>\n",
       "      <td>0.0</td>\n",
       "      <td>1.0</td>\n",
       "      <td>0.0</td>\n",
       "      <td>0.0</td>\n",
       "      <td>0.0</td>\n",
       "      <td>1.0</td>\n",
       "      <td>...</td>\n",
       "      <td>0.0</td>\n",
       "      <td>1.0</td>\n",
       "      <td>0.0</td>\n",
       "      <td>0.0</td>\n",
       "      <td>0.0</td>\n",
       "      <td>78.158763</td>\n",
       "      <td>48.559852</td>\n",
       "      <td>67.0</td>\n",
       "      <td>40.0</td>\n",
       "      <td>No</td>\n",
       "    </tr>\n",
       "    <tr>\n",
       "      <th>4</th>\n",
       "      <td>1.0</td>\n",
       "      <td>0.0</td>\n",
       "      <td>0.0</td>\n",
       "      <td>0.0</td>\n",
       "      <td>0.0</td>\n",
       "      <td>1.0</td>\n",
       "      <td>0.0</td>\n",
       "      <td>0.0</td>\n",
       "      <td>0.0</td>\n",
       "      <td>0.0</td>\n",
       "      <td>...</td>\n",
       "      <td>0.0</td>\n",
       "      <td>0.0</td>\n",
       "      <td>0.0</td>\n",
       "      <td>0.0</td>\n",
       "      <td>0.0</td>\n",
       "      <td>93.263918</td>\n",
       "      <td>56.320445</td>\n",
       "      <td>100.0</td>\n",
       "      <td>40.0</td>\n",
       "      <td>No</td>\n",
       "    </tr>\n",
       "  </tbody>\n",
       "</table>\n",
       "<p>5 rows × 32 columns</p>\n",
       "</div>"
      ],
      "text/plain": [
       "   gender_F  gender_M  agecat_1.0  agecat_2.0  agecat_3.0  agecat_4.0  \\\n",
       "0       1.0       0.0         0.0         0.0         0.0         1.0   \n",
       "1       1.0       0.0         0.0         1.0         0.0         0.0   \n",
       "2       0.0       1.0         0.0         1.0         0.0         0.0   \n",
       "3       0.0       1.0         0.0         0.0         0.0         1.0   \n",
       "4       1.0       0.0         0.0         0.0         0.0         1.0   \n",
       "\n",
       "   agecat_5.0  agecat_6.0  area_A  area_B  ...  veh_body_RDSTR  \\\n",
       "0         0.0         0.0     0.0     0.0  ...             0.0   \n",
       "1         0.0         0.0     0.0     0.0  ...             0.0   \n",
       "2         0.0         0.0     0.0     1.0  ...             0.0   \n",
       "3         0.0         0.0     0.0     1.0  ...             0.0   \n",
       "4         0.0         0.0     0.0     0.0  ...             0.0   \n",
       "\n",
       "   veh_body_SEDAN  veh_body_STNWG  veh_body_TRUCK  veh_body_UTE  credit_score  \\\n",
       "0             0.0             0.0             0.0           0.0      4.265979   \n",
       "1             0.0             0.0             0.0           1.0     38.558763   \n",
       "2             0.0             0.0             0.0           0.0     58.971134   \n",
       "3             1.0             0.0             0.0           0.0     78.158763   \n",
       "4             0.0             0.0             0.0           0.0     93.263918   \n",
       "\n",
       "   traffic_index  veh_age  monthDiff  claims  \n",
       "0      65.811441     34.0       40.0      No  \n",
       "1      81.542373      1.0       40.0      No  \n",
       "2      57.369174    100.0       40.0      No  \n",
       "3      48.559852     67.0       40.0      No  \n",
       "4      56.320445    100.0       40.0      No  \n",
       "\n",
       "[5 rows x 32 columns]"
      ]
     },
     "execution_count": 27,
     "metadata": {},
     "output_type": "execute_result"
    }
   ],
   "source": [
    "data_num = data[[\"credit_score\", \"traffic_index\", \"veh_age\", \"monthDiff\"]]\n",
    "data_res = data[\"claims\"]\n",
    "dataOHE = pd.concat([data_cat_ohe, data_num, data_res],\n",
    "                   sort = False, axis = 1).reindex(index = data_num.index)\n",
    "\n",
    "dataOHE.head()"
   ]
  },
  {
   "cell_type": "markdown",
   "id": "6ed60323",
   "metadata": {},
   "source": [
    "There is also huge data imbalance for the response `claims`, as visualised below. As such, we need to upsample the \"Yes\" to match with \"No\""
   ]
  },
  {
   "cell_type": "code",
   "execution_count": 5,
   "id": "992ea599",
   "metadata": {},
   "outputs": [
    {
     "data": {
      "text/plain": [
       "<seaborn.axisgrid.FacetGrid at 0x7ff02952ae80>"
      ]
     },
     "execution_count": 5,
     "metadata": {},
     "output_type": "execute_result"
    },
    {
     "data": {
      "image/png": "[encoded data removed]",
      "text/plain": [
       "<Figure size 360x360 with 1 Axes>"
      ]
     },
     "metadata": {},
     "output_type": "display_data"
    }
   ],
   "source": [
    "sb.catplot(y = \"claims\", data = dataOHE, kind = \"count\")"
   ]
  },
  {
   "cell_type": "code",
   "execution_count": 29,
   "id": "0be19404",
   "metadata": {
    "scrolled": false
   },
   "outputs": [
    {
     "data": {
      "text/plain": [
       "<seaborn.axisgrid.FacetGrid at 0x7ff01ab36e20>"
      ]
     },
     "execution_count": 29,
     "metadata": {},
     "output_type": "execute_result"
    },
    {
     "data": {
      "image/png": "[encoded data removed]",
      "text/plain": [
       "<Figure size 360x360 with 1 Axes>"
      ]
     },
     "metadata": {},
     "output_type": "display_data"
    }
   ],
   "source": [
    "claimsNo = dataOHE[dataOHE.claims == \"No\"]\n",
    "claimsYes = dataOHE[dataOHE.claims == \"Yes\"]\n",
    "\n",
    "claimsYes_up = resample(claimsYes,\n",
    "                      replace = True,\n",
    "                      n_samples = claimsNo.shape[0])\n",
    "\n",
    "dataOHE_up = pd.concat([claimsNo, claimsYes_up])\n",
    "\n",
    "sb.catplot(y = \"claims\", data = dataOHE_up, kind = \"count\")"
   ]
  },
  {
   "cell_type": "code",
   "execution_count": 30,
   "id": "bcc0be8b",
   "metadata": {},
   "outputs": [
    {
     "name": "stdout",
     "output_type": "stream",
     "text": [
      "<class 'pandas.core.frame.DataFrame'>\n",
      "Int64Index: 91926 entries, 0 to 17848\n",
      "Data columns (total 32 columns):\n",
      " #   Column          Non-Null Count  Dtype  \n",
      "---  ------          --------------  -----  \n",
      " 0   gender_F        91926 non-null  float64\n",
      " 1   gender_M        91926 non-null  float64\n",
      " 2   agecat_1.0      91926 non-null  float64\n",
      " 3   agecat_2.0      91926 non-null  float64\n",
      " 4   agecat_3.0      91926 non-null  float64\n",
      " 5   agecat_4.0      91926 non-null  float64\n",
      " 6   agecat_5.0      91926 non-null  float64\n",
      " 7   agecat_6.0      91926 non-null  float64\n",
      " 8   area_A          91926 non-null  float64\n",
      " 9   area_B          91926 non-null  float64\n",
      " 10  area_C          91926 non-null  float64\n",
      " 11  area_D          91926 non-null  float64\n",
      " 12  area_E          91926 non-null  float64\n",
      " 13  area_F          91926 non-null  float64\n",
      " 14  veh_body_BUS    91926 non-null  float64\n",
      " 15  veh_body_CONVT  91926 non-null  float64\n",
      " 16  veh_body_COUPE  91926 non-null  float64\n",
      " 17  veh_body_HBACK  91926 non-null  float64\n",
      " 18  veh_body_HDTOP  91926 non-null  float64\n",
      " 19  veh_body_MCARA  91926 non-null  float64\n",
      " 20  veh_body_MIBUS  91926 non-null  float64\n",
      " 21  veh_body_PANVN  91926 non-null  float64\n",
      " 22  veh_body_RDSTR  91926 non-null  float64\n",
      " 23  veh_body_SEDAN  91926 non-null  float64\n",
      " 24  veh_body_STNWG  91926 non-null  float64\n",
      " 25  veh_body_TRUCK  91926 non-null  float64\n",
      " 26  veh_body_UTE    91926 non-null  float64\n",
      " 27  credit_score    91926 non-null  float64\n",
      " 28  traffic_index   91926 non-null  float64\n",
      " 29  veh_age         91926 non-null  float64\n",
      " 30  monthDiff       91926 non-null  float64\n",
      " 31  claims          91926 non-null  object \n",
      "dtypes: float64(31), object(1)\n",
      "memory usage: 23.1+ MB\n"
     ]
    }
   ],
   "source": [
    "dataOHE_up.info()"
   ]
  },
  {
   "cell_type": "markdown",
   "id": "7b02014f",
   "metadata": {},
   "source": [
    "Now, we will perform `LogisticRegression` to predict the response `claims`.\n",
    "\n",
    "We will split the dataset into train and test dataset, with test size being 30%."
   ]
  },
  {
   "cell_type": "code",
   "execution_count": 31,
   "id": "3b2f30cc",
   "metadata": {},
   "outputs": [
    {
     "name": "stderr",
     "output_type": "stream",
     "text": [
      "/Users/limjunyu/opt/anaconda3/lib/python3.9/site-packages/sklearn/linear_model/_logistic.py:814: ConvergenceWarning: lbfgs failed to converge (status=1):\n",
      "STOP: TOTAL NO. of ITERATIONS REACHED LIMIT.\n",
      "\n",
      "Increase the number of iterations (max_iter) or scale the data as shown in:\n",
      "    https://scikit-learn.org/stable/modules/preprocessing.html\n",
      "Please also refer to the documentation for alternative solver options:\n",
      "    https://scikit-learn.org/stable/modules/linear_model.html#logistic-regression\n",
      "  n_iter_i = _check_optimize_result(\n"
     ]
    },
    {
     "data": {
      "text/plain": [
       "LogisticRegression(max_iter=400)"
      ]
     },
     "execution_count": 31,
     "metadata": {},
     "output_type": "execute_result"
    }
   ],
   "source": [
    "y = pd.DataFrame(dataOHE_up[\"claims\"])\n",
    "x = pd.DataFrame(dataOHE_up.drop(\"claims\", axis = 1))\n",
    "\n",
    "xTrain, xTest, yTrain, yTest = train_test_split(x, y, test_size = 0.3)\n",
    "\n",
    "logreg = LogisticRegression(max_iter = 400)\n",
    "\n",
    "logreg.fit(xTrain, yTrain.claims.ravel())"
   ]
  },
  {
   "cell_type": "code",
   "execution_count": 32,
   "id": "0ba69d2a",
   "metadata": {},
   "outputs": [
    {
     "name": "stdout",
     "output_type": "stream",
     "text": [
      "Train data\n",
      "Accuracy :\t 0.7347081494374339\n",
      "\n",
      "TPR :\t 0.735569929745288\n",
      "TNR :\t 0.7338389986578019\n",
      "\n",
      "FPR :\t 0.26616100134219806\n",
      "FNR :\t 0.264430070254712\n"
     ]
    },
    {
     "data": {
      "text/plain": [
       "<AxesSubplot:>"
      ]
     },
     "execution_count": 32,
     "metadata": {},
     "output_type": "execute_result"
    },
    {
     "data": {
      "image/png": "[encoded data removed]",
      "text/plain": [
       "<Figure size 432x288 with 2 Axes>"
      ]
     },
     "metadata": {},
     "output_type": "display_data"
    }
   ],
   "source": [
    "yTrain_pred = logreg.predict(xTrain)\n",
    "\n",
    "print(\"Train data\")\n",
    "print(\"Accuracy :\\t\", logreg.score(xTrain, yTrain))\n",
    "print()\n",
    "\n",
    "cmTrain = confusion_matrix(yTrain, yTrain_pred)\n",
    "tnTrain = cmTrain[0][0]\n",
    "fpTrain = cmTrain[0][1]\n",
    "fnTrain = cmTrain[1][0]\n",
    "tpTrain = cmTrain[1][1]\n",
    "\n",
    "print(\"TPR :\\t\", (tpTrain/(tpTrain + fnTrain)))\n",
    "print(\"TNR :\\t\", (tnTrain/(tnTrain + fpTrain)))\n",
    "print()\n",
    "print(\"FPR :\\t\", (fpTrain/(tnTrain + fpTrain)))\n",
    "print(\"FNR :\\t\", (fnTrain/(tpTrain + fnTrain)))\n",
    "\n",
    "sb.heatmap(cmTrain, annot = True, fmt = \".0f\", annot_kws = {\"size\":18})"
   ]
  },
  {
   "cell_type": "code",
   "execution_count": 33,
   "id": "d9622d10",
   "metadata": {
    "scrolled": false
   },
   "outputs": [
    {
     "name": "stdout",
     "output_type": "stream",
     "text": [
      "Test data\n",
      "Accuracy :\t 0.7374718978896222\n",
      "\n",
      "TPR :\t 0.7424553179021389\n",
      "TNR :\t 0.7325865287950596\n",
      "\n",
      "FPR :\t 0.2674134712049404\n",
      "FNR :\t 0.25754468209786113\n"
     ]
    },
    {
     "data": {
      "text/plain": [
       "<AxesSubplot:>"
      ]
     },
     "execution_count": 33,
     "metadata": {},
     "output_type": "execute_result"
    },
    {
     "data": {
      "image/png": "[encoded data removed]",
      "text/plain": [
       "<Figure size 432x288 with 2 Axes>"
      ]
     },
     "metadata": {},
     "output_type": "display_data"
    }
   ],
   "source": [
    "yTest_pred = logreg.predict(xTest)\n",
    "\n",
    "print(\"Test data\")\n",
    "print(\"Accuracy :\\t\", logreg.score(xTest, yTest))\n",
    "print()\n",
    "\n",
    "cmTest = confusion_matrix(yTest, yTest_pred)\n",
    "tnTest = cmTest[0][0]\n",
    "fpTest = cmTest[0][1]\n",
    "fnTest = cmTest[1][0]\n",
    "tpTest = cmTest[1][1]\n",
    "\n",
    "print(\"TPR :\\t\", (tpTest/(tpTest + fnTest)))\n",
    "print(\"TNR :\\t\", (tnTest/(tnTest + fpTest)))\n",
    "print()\n",
    "print(\"FPR :\\t\", (fpTest/(fpTest + tnTest)))\n",
    "print(\"FNR :\\t\", (fnTest/(fnTest + tpTest)))\n",
    "\n",
    "sb.heatmap(cmTest, annot = True, fmt = \".0f\", annot_kws = {\"size\":18})"
   ]
  },
  {
   "cell_type": "markdown",
   "id": "386845b0",
   "metadata": {},
   "source": [
    "A confusion matrix is plotted, with the accuracy metrics printed for the machine learning model.\n",
    "\n",
    "---\n",
    "\n",
    "`GridSearchCV` is used to find the best parameters to use for `LogisticRegression`"
   ]
  },
  {
   "cell_type": "code",
   "execution_count": 11,
   "id": "aef05fc2",
   "metadata": {
    "scrolled": true
   },
   "outputs": [
    {
     "name": "stderr",
     "output_type": "stream",
     "text": [
      "/Users/limjunyu/opt/anaconda3/lib/python3.9/site-packages/sklearn/utils/validation.py:993: DataConversionWarning: A column-vector y was passed when a 1d array was expected. Please change the shape of y to (n_samples, ), for example using ravel().\n",
      "  y = column_or_1d(y, warn=True)\n",
      "/Users/limjunyu/opt/anaconda3/lib/python3.9/site-packages/sklearn/linear_model/_logistic.py:1523: UserWarning: 'n_jobs' > 1 does not have any effect when 'solver' is set to 'liblinear'. Got 'n_jobs' = 8.\n",
      "  warnings.warn(\n",
      "/Users/limjunyu/opt/anaconda3/lib/python3.9/site-packages/sklearn/utils/validation.py:993: DataConversionWarning: A column-vector y was passed when a 1d array was expected. Please change the shape of y to (n_samples, ), for example using ravel().\n",
      "  y = column_or_1d(y, warn=True)\n",
      "/Users/limjunyu/opt/anaconda3/lib/python3.9/site-packages/sklearn/linear_model/_logistic.py:1523: UserWarning: 'n_jobs' > 1 does not have any effect when 'solver' is set to 'liblinear'. Got 'n_jobs' = 8.\n",
      "  warnings.warn(\n",
      "/Users/limjunyu/opt/anaconda3/lib/python3.9/site-packages/sklearn/utils/validation.py:993: DataConversionWarning: A column-vector y was passed when a 1d array was expected. Please change the shape of y to (n_samples, ), for example using ravel().\n",
      "  y = column_or_1d(y, warn=True)\n",
      "/Users/limjunyu/opt/anaconda3/lib/python3.9/site-packages/sklearn/linear_model/_logistic.py:1523: UserWarning: 'n_jobs' > 1 does not have any effect when 'solver' is set to 'liblinear'. Got 'n_jobs' = 8.\n",
      "  warnings.warn(\n",
      "/Users/limjunyu/opt/anaconda3/lib/python3.9/site-packages/sklearn/utils/validation.py:993: DataConversionWarning: A column-vector y was passed when a 1d array was expected. Please change the shape of y to (n_samples, ), for example using ravel().\n",
      "  y = column_or_1d(y, warn=True)\n",
      "/Users/limjunyu/opt/anaconda3/lib/python3.9/site-packages/sklearn/linear_model/_logistic.py:1523: UserWarning: 'n_jobs' > 1 does not have any effect when 'solver' is set to 'liblinear'. Got 'n_jobs' = 8.\n",
      "  warnings.warn(\n",
      "/Users/limjunyu/opt/anaconda3/lib/python3.9/site-packages/sklearn/utils/validation.py:993: DataConversionWarning: A column-vector y was passed when a 1d array was expected. Please change the shape of y to (n_samples, ), for example using ravel().\n",
      "  y = column_or_1d(y, warn=True)\n",
      "/Users/limjunyu/opt/anaconda3/lib/python3.9/site-packages/sklearn/linear_model/_logistic.py:1523: UserWarning: 'n_jobs' > 1 does not have any effect when 'solver' is set to 'liblinear'. Got 'n_jobs' = 8.\n",
      "  warnings.warn(\n",
      "/Users/limjunyu/opt/anaconda3/lib/python3.9/site-packages/sklearn/utils/validation.py:993: DataConversionWarning: A column-vector y was passed when a 1d array was expected. Please change the shape of y to (n_samples, ), for example using ravel().\n",
      "  y = column_or_1d(y, warn=True)\n",
      "/Users/limjunyu/opt/anaconda3/lib/python3.9/site-packages/sklearn/utils/validation.py:993: DataConversionWarning: A column-vector y was passed when a 1d array was expected. Please change the shape of y to (n_samples, ), for example using ravel().\n",
      "  y = column_or_1d(y, warn=True)\n",
      "/Users/limjunyu/opt/anaconda3/lib/python3.9/site-packages/sklearn/utils/validation.py:993: DataConversionWarning: A column-vector y was passed when a 1d array was expected. Please change the shape of y to (n_samples, ), for example using ravel().\n",
      "  y = column_or_1d(y, warn=True)\n",
      "/Users/limjunyu/opt/anaconda3/lib/python3.9/site-packages/sklearn/utils/validation.py:993: DataConversionWarning: A column-vector y was passed when a 1d array was expected. Please change the shape of y to (n_samples, ), for example using ravel().\n",
      "  y = column_or_1d(y, warn=True)\n",
      "/Users/limjunyu/opt/anaconda3/lib/python3.9/site-packages/sklearn/utils/validation.py:993: DataConversionWarning: A column-vector y was passed when a 1d array was expected. Please change the shape of y to (n_samples, ), for example using ravel().\n",
      "  y = column_or_1d(y, warn=True)\n",
      "/Users/limjunyu/opt/anaconda3/lib/python3.9/site-packages/sklearn/utils/validation.py:993: DataConversionWarning: A column-vector y was passed when a 1d array was expected. Please change the shape of y to (n_samples, ), for example using ravel().\n",
      "  y = column_or_1d(y, warn=True)\n",
      "/Users/limjunyu/opt/anaconda3/lib/python3.9/site-packages/sklearn/linear_model/_logistic.py:814: ConvergenceWarning: lbfgs failed to converge (status=1):\n",
      "STOP: TOTAL NO. of ITERATIONS REACHED LIMIT.\n",
      "\n",
      "Increase the number of iterations (max_iter) or scale the data as shown in:\n",
      "    https://scikit-learn.org/stable/modules/preprocessing.html\n",
      "Please also refer to the documentation for alternative solver options:\n",
      "    https://scikit-learn.org/stable/modules/linear_model.html#logistic-regression\n",
      "  n_iter_i = _check_optimize_result(\n",
      "/Users/limjunyu/opt/anaconda3/lib/python3.9/site-packages/sklearn/utils/validation.py:993: DataConversionWarning: A column-vector y was passed when a 1d array was expected. Please change the shape of y to (n_samples, ), for example using ravel().\n",
      "  y = column_or_1d(y, warn=True)\n",
      "/Users/limjunyu/opt/anaconda3/lib/python3.9/site-packages/sklearn/linear_model/_logistic.py:814: ConvergenceWarning: lbfgs failed to converge (status=1):\n",
      "STOP: TOTAL NO. of ITERATIONS REACHED LIMIT.\n",
      "\n",
      "Increase the number of iterations (max_iter) or scale the data as shown in:\n",
      "    https://scikit-learn.org/stable/modules/preprocessing.html\n",
      "Please also refer to the documentation for alternative solver options:\n",
      "    https://scikit-learn.org/stable/modules/linear_model.html#logistic-regression\n",
      "  n_iter_i = _check_optimize_result(\n",
      "/Users/limjunyu/opt/anaconda3/lib/python3.9/site-packages/sklearn/utils/validation.py:993: DataConversionWarning: A column-vector y was passed when a 1d array was expected. Please change the shape of y to (n_samples, ), for example using ravel().\n",
      "  y = column_or_1d(y, warn=True)\n",
      "/Users/limjunyu/opt/anaconda3/lib/python3.9/site-packages/sklearn/linear_model/_logistic.py:814: ConvergenceWarning: lbfgs failed to converge (status=1):\n",
      "STOP: TOTAL NO. of ITERATIONS REACHED LIMIT.\n",
      "\n",
      "Increase the number of iterations (max_iter) or scale the data as shown in:\n",
      "    https://scikit-learn.org/stable/modules/preprocessing.html\n",
      "Please also refer to the documentation for alternative solver options:\n",
      "    https://scikit-learn.org/stable/modules/linear_model.html#logistic-regression\n",
      "  n_iter_i = _check_optimize_result(\n",
      "/Users/limjunyu/opt/anaconda3/lib/python3.9/site-packages/sklearn/utils/validation.py:993: DataConversionWarning: A column-vector y was passed when a 1d array was expected. Please change the shape of y to (n_samples, ), for example using ravel().\n",
      "  y = column_or_1d(y, warn=True)\n",
      "/Users/limjunyu/opt/anaconda3/lib/python3.9/site-packages/sklearn/linear_model/_logistic.py:814: ConvergenceWarning: lbfgs failed to converge (status=1):\n",
      "STOP: TOTAL NO. of ITERATIONS REACHED LIMIT.\n",
      "\n",
      "Increase the number of iterations (max_iter) or scale the data as shown in:\n",
      "    https://scikit-learn.org/stable/modules/preprocessing.html\n",
      "Please also refer to the documentation for alternative solver options:\n",
      "    https://scikit-learn.org/stable/modules/linear_model.html#logistic-regression\n",
      "  n_iter_i = _check_optimize_result(\n",
      "/Users/limjunyu/opt/anaconda3/lib/python3.9/site-packages/sklearn/utils/validation.py:993: DataConversionWarning: A column-vector y was passed when a 1d array was expected. Please change the shape of y to (n_samples, ), for example using ravel().\n",
      "  y = column_or_1d(y, warn=True)\n",
      "/Users/limjunyu/opt/anaconda3/lib/python3.9/site-packages/sklearn/linear_model/_logistic.py:814: ConvergenceWarning: lbfgs failed to converge (status=1):\n",
      "STOP: TOTAL NO. of ITERATIONS REACHED LIMIT.\n",
      "\n",
      "Increase the number of iterations (max_iter) or scale the data as shown in:\n",
      "    https://scikit-learn.org/stable/modules/preprocessing.html\n",
      "Please also refer to the documentation for alternative solver options:\n",
      "    https://scikit-learn.org/stable/modules/linear_model.html#logistic-regression\n",
      "  n_iter_i = _check_optimize_result(\n",
      "/Users/limjunyu/opt/anaconda3/lib/python3.9/site-packages/sklearn/utils/validation.py:993: DataConversionWarning: A column-vector y was passed when a 1d array was expected. Please change the shape of y to (n_samples, ), for example using ravel().\n",
      "  y = column_or_1d(y, warn=True)\n"
     ]
    },
    {
     "name": "stderr",
     "output_type": "stream",
     "text": [
      "/Users/limjunyu/opt/anaconda3/lib/python3.9/site-packages/sklearn/linear_model/_sag.py:352: ConvergenceWarning: The max_iter was reached which means the coef_ did not converge\n",
      "  warnings.warn(\n",
      "/Users/limjunyu/opt/anaconda3/lib/python3.9/site-packages/sklearn/utils/validation.py:993: DataConversionWarning: A column-vector y was passed when a 1d array was expected. Please change the shape of y to (n_samples, ), for example using ravel().\n",
      "  y = column_or_1d(y, warn=True)\n",
      "/Users/limjunyu/opt/anaconda3/lib/python3.9/site-packages/sklearn/linear_model/_sag.py:352: ConvergenceWarning: The max_iter was reached which means the coef_ did not converge\n",
      "  warnings.warn(\n",
      "/Users/limjunyu/opt/anaconda3/lib/python3.9/site-packages/sklearn/utils/validation.py:993: DataConversionWarning: A column-vector y was passed when a 1d array was expected. Please change the shape of y to (n_samples, ), for example using ravel().\n",
      "  y = column_or_1d(y, warn=True)\n",
      "/Users/limjunyu/opt/anaconda3/lib/python3.9/site-packages/sklearn/linear_model/_sag.py:352: ConvergenceWarning: The max_iter was reached which means the coef_ did not converge\n",
      "  warnings.warn(\n",
      "/Users/limjunyu/opt/anaconda3/lib/python3.9/site-packages/sklearn/utils/validation.py:993: DataConversionWarning: A column-vector y was passed when a 1d array was expected. Please change the shape of y to (n_samples, ), for example using ravel().\n",
      "  y = column_or_1d(y, warn=True)\n",
      "/Users/limjunyu/opt/anaconda3/lib/python3.9/site-packages/sklearn/linear_model/_sag.py:352: ConvergenceWarning: The max_iter was reached which means the coef_ did not converge\n",
      "  warnings.warn(\n",
      "/Users/limjunyu/opt/anaconda3/lib/python3.9/site-packages/sklearn/utils/validation.py:993: DataConversionWarning: A column-vector y was passed when a 1d array was expected. Please change the shape of y to (n_samples, ), for example using ravel().\n",
      "  y = column_or_1d(y, warn=True)\n",
      "/Users/limjunyu/opt/anaconda3/lib/python3.9/site-packages/sklearn/linear_model/_sag.py:352: ConvergenceWarning: The max_iter was reached which means the coef_ did not converge\n",
      "  warnings.warn(\n",
      "/Users/limjunyu/opt/anaconda3/lib/python3.9/site-packages/sklearn/utils/validation.py:993: DataConversionWarning: A column-vector y was passed when a 1d array was expected. Please change the shape of y to (n_samples, ), for example using ravel().\n",
      "  y = column_or_1d(y, warn=True)\n",
      "/Users/limjunyu/opt/anaconda3/lib/python3.9/site-packages/sklearn/linear_model/_sag.py:352: ConvergenceWarning: The max_iter was reached which means the coef_ did not converge\n",
      "  warnings.warn(\n",
      "/Users/limjunyu/opt/anaconda3/lib/python3.9/site-packages/sklearn/utils/validation.py:993: DataConversionWarning: A column-vector y was passed when a 1d array was expected. Please change the shape of y to (n_samples, ), for example using ravel().\n",
      "  y = column_or_1d(y, warn=True)\n",
      "/Users/limjunyu/opt/anaconda3/lib/python3.9/site-packages/sklearn/linear_model/_sag.py:352: ConvergenceWarning: The max_iter was reached which means the coef_ did not converge\n",
      "  warnings.warn(\n",
      "/Users/limjunyu/opt/anaconda3/lib/python3.9/site-packages/sklearn/utils/validation.py:993: DataConversionWarning: A column-vector y was passed when a 1d array was expected. Please change the shape of y to (n_samples, ), for example using ravel().\n",
      "  y = column_or_1d(y, warn=True)\n",
      "/Users/limjunyu/opt/anaconda3/lib/python3.9/site-packages/sklearn/linear_model/_sag.py:352: ConvergenceWarning: The max_iter was reached which means the coef_ did not converge\n",
      "  warnings.warn(\n",
      "/Users/limjunyu/opt/anaconda3/lib/python3.9/site-packages/sklearn/utils/validation.py:993: DataConversionWarning: A column-vector y was passed when a 1d array was expected. Please change the shape of y to (n_samples, ), for example using ravel().\n",
      "  y = column_or_1d(y, warn=True)\n",
      "/Users/limjunyu/opt/anaconda3/lib/python3.9/site-packages/sklearn/linear_model/_sag.py:352: ConvergenceWarning: The max_iter was reached which means the coef_ did not converge\n",
      "  warnings.warn(\n",
      "/Users/limjunyu/opt/anaconda3/lib/python3.9/site-packages/sklearn/utils/validation.py:993: DataConversionWarning: A column-vector y was passed when a 1d array was expected. Please change the shape of y to (n_samples, ), for example using ravel().\n",
      "  y = column_or_1d(y, warn=True)\n",
      "/Users/limjunyu/opt/anaconda3/lib/python3.9/site-packages/sklearn/linear_model/_sag.py:352: ConvergenceWarning: The max_iter was reached which means the coef_ did not converge\n",
      "  warnings.warn(\n",
      "/Users/limjunyu/opt/anaconda3/lib/python3.9/site-packages/sklearn/utils/validation.py:993: DataConversionWarning: A column-vector y was passed when a 1d array was expected. Please change the shape of y to (n_samples, ), for example using ravel().\n",
      "  y = column_or_1d(y, warn=True)\n"
     ]
    },
    {
     "name": "stdout",
     "output_type": "stream",
     "text": [
      "liblinear:\t\t 0.736\n",
      "newton-cg:\t\t 0.736\n",
      "lbfgs:\t\t 0.736\n",
      "sag:\t\t 0.736\n",
      "saga:\t\t 0.736\n"
     ]
    },
    {
     "name": "stderr",
     "output_type": "stream",
     "text": [
      "/Users/limjunyu/opt/anaconda3/lib/python3.9/site-packages/sklearn/linear_model/_sag.py:352: ConvergenceWarning: The max_iter was reached which means the coef_ did not converge\n",
      "  warnings.warn(\n"
     ]
    }
   ],
   "source": [
    "y = pd.DataFrame(dataOHE_up[\"claims\"])\n",
    "x = pd.DataFrame(dataOHE_up.drop(\"claims\", axis = 1))\n",
    "\n",
    "xTrain, xTest, yTrain, yTest = train_test_split(x, y, test_size = 0.3)\n",
    "\n",
    "solver_list = ['liblinear', 'newton-cg', 'lbfgs', 'sag', 'saga']\n",
    "params = dict(solver = solver_list)\n",
    "log_reg = LogisticRegression(C = 1, n_jobs = -1, random_state = 34)\n",
    "clf = GridSearchCV(log_reg, params, cv = 5)\n",
    "clf.fit(xTrain, yTrain)\n",
    "scores = clf.cv_results_['mean_test_score']\n",
    "\n",
    "for score, solver in zip(scores, solver_list):\n",
    "    print(f\"{solver}:\\t\\t {score:.3f}\" )\n"
   ]
  },
  {
   "cell_type": "markdown",
   "id": "312881b7",
   "metadata": {},
   "source": [
    "From `GridSearchCV` results, each solver for `LogisticRegression` yields the same result.\n",
    "\n",
    "---\n",
    "\n",
    "Next, we will try a new machine learning model to predict the response.\n",
    "`RandomForestClassifier` will be used."
   ]
  },
  {
   "cell_type": "code",
   "execution_count": 34,
   "id": "4290ce35",
   "metadata": {},
   "outputs": [
    {
     "data": {
      "text/plain": [
       "RandomForestClassifier(max_depth=10)"
      ]
     },
     "execution_count": 34,
     "metadata": {},
     "output_type": "execute_result"
    }
   ],
   "source": [
    "y = pd.DataFrame(dataOHE_up[\"claims\"])\n",
    "x = pd.DataFrame(dataOHE_up.drop(\"claims\", axis = 1))\n",
    "\n",
    "xTrain, xTest, yTrain, yTest = train_test_split(x, y, test_size = 0.3)\n",
    "\n",
    "rforest = RandomForestClassifier(n_estimators = 100,\n",
    "                                 max_depth = 10)\n",
    "\n",
    "rforest.fit(xTrain, yTrain.claims.ravel())"
   ]
  },
  {
   "cell_type": "code",
   "execution_count": 35,
   "id": "cf49c8d9",
   "metadata": {},
   "outputs": [
    {
     "name": "stdout",
     "output_type": "stream",
     "text": [
      "Train data\n",
      "Accuracy :\t 0.772766830359918\n",
      "\n",
      "TPR :\t 0.784288154013352\n",
      "TNR :\t 0.7612232834520736\n",
      "\n",
      "FPR :\t 0.23877671654792645\n",
      "FNR :\t 0.21571184598664803\n"
     ]
    },
    {
     "data": {
      "text/plain": [
       "<AxesSubplot:>"
      ]
     },
     "execution_count": 35,
     "metadata": {},
     "output_type": "execute_result"
    },
    {
     "data": {
      "image/png": "[encoded data removed]",
      "text/plain": [
       "<Figure size 432x288 with 2 Axes>"
      ]
     },
     "metadata": {},
     "output_type": "display_data"
    }
   ],
   "source": [
    "yTrain_pred = rforest.predict(xTrain)\n",
    "\n",
    "print(\"Train data\")\n",
    "print(\"Accuracy :\\t\", rforest.score(xTrain, yTrain))\n",
    "print()\n",
    "\n",
    "cmTrain = confusion_matrix(yTrain, yTrain_pred)\n",
    "tnTrain = cmTrain[0][0]\n",
    "fpTrain = cmTrain[0][1]\n",
    "fnTrain = cmTrain[1][0]\n",
    "tpTrain = cmTrain[1][1]\n",
    "\n",
    "print(\"TPR :\\t\", (tpTrain/(tpTrain + fnTrain)))\n",
    "print(\"TNR :\\t\", (tnTrain/(tnTrain + fpTrain)))\n",
    "print()\n",
    "print(\"FPR :\\t\", (fpTrain/(tnTrain + fpTrain)))\n",
    "print(\"FNR :\\t\", (fnTrain/(tpTrain + fnTrain)))\n",
    "\n",
    "sb.heatmap(cmTrain, annot = True, fmt = \".0f\", annot_kws = {\"size\":18})"
   ]
  },
  {
   "cell_type": "code",
   "execution_count": 36,
   "id": "72889977",
   "metadata": {},
   "outputs": [
    {
     "name": "stdout",
     "output_type": "stream",
     "text": [
      "Test data\n",
      "Accuracy :\t 0.7634346217999854\n",
      "\n",
      "TPR :\t 0.7746038668411106\n",
      "TNR :\t 0.752315484804631\n",
      "\n",
      "FPR :\t 0.24768451519536902\n",
      "FNR :\t 0.22539613315888937\n"
     ]
    },
    {
     "data": {
      "text/plain": [
       "<AxesSubplot:>"
      ]
     },
     "execution_count": 36,
     "metadata": {},
     "output_type": "execute_result"
    },
    {
     "data": {
      "image/png": "[encoded data removed]",
      "text/plain": [
       "<Figure size 432x288 with 2 Axes>"
      ]
     },
     "metadata": {},
     "output_type": "display_data"
    }
   ],
   "source": [
    "yTest_pred = rforest.predict(xTest)\n",
    "\n",
    "print(\"Test data\")\n",
    "print(\"Accuracy :\\t\", rforest.score(xTest, yTest))\n",
    "print()\n",
    "\n",
    "cmTest = confusion_matrix(yTest, yTest_pred)\n",
    "tnTest = cmTest[0][0]\n",
    "fpTest = cmTest[0][1]\n",
    "fnTest = cmTest[1][0]\n",
    "tpTest = cmTest[1][1]\n",
    "\n",
    "print(\"TPR :\\t\", (tpTest/(tpTest + fnTest)))\n",
    "print(\"TNR :\\t\", (tnTest/(tnTest + fpTest)))\n",
    "print()\n",
    "print(\"FPR :\\t\", (fpTest/(fpTest + tnTest)))\n",
    "print(\"FNR :\\t\", (fnTest/(fnTest + tpTest)))\n",
    "\n",
    "sb.heatmap(cmTest, annot = True, fmt = \".0f\", annot_kws = {\"size\":18})"
   ]
  },
  {
   "cell_type": "code",
   "execution_count": null,
   "id": "1cd0362e",
   "metadata": {},
   "outputs": [],
   "source": []
  },
  {
   "cell_type": "code",
   "execution_count": 15,
   "id": "13dee8d3",
   "metadata": {},
   "outputs": [
    {
     "data": {
      "text/plain": [
       "GridSearchCV(cv=5, estimator=RandomForestClassifier(),\n",
       "             param_grid={'max_depth': array([ 2,  3,  4,  5,  6,  7,  8,  9, 10]),\n",
       "                         'n_estimators': array([ 100,  200,  300,  400,  500,  600,  700,  800,  900, 1000])},\n",
       "             scoring='accuracy')"
      ]
     },
     "execution_count": 15,
     "metadata": {},
     "output_type": "execute_result"
    }
   ],
   "source": [
    "y = pd.DataFrame(dataOHE_up[\"claims\"])\n",
    "x = pd.DataFrame(dataOHE_up.drop(\"claims\", axis = 1))\n",
    "\n",
    "xTrain, xTest, yTrain, yTest = train_test_split(x, y, test_size = 0.3)\n",
    "\n",
    "param_grid = {'n_estimators': np.arange(100,1001,100),   \n",
    "              'max_depth': np.arange(2, 11)}             \n",
    "\n",
    "hpGrid = GridSearchCV(RandomForestClassifier(),   \n",
    "                      param_grid,                 \n",
    "                      cv = 5,                     \n",
    "                      scoring = 'accuracy')       \n",
    "\n",
    "hpGrid.fit(xTrain, yTrain.claims.ravel())\n",
    "# print(hpGrid.best_estimator_)\n",
    "# print(np.abs(hpGrid.best_score_))"
   ]
  },
  {
   "cell_type": "code",
   "execution_count": 16,
   "id": "19149a49",
   "metadata": {},
   "outputs": [
    {
     "name": "stdout",
     "output_type": "stream",
     "text": [
      "RandomForestClassifier(max_depth=10, n_estimators=600)\n",
      "0.7575837757359243\n"
     ]
    }
   ],
   "source": [
    "# Fetch the best Model or the best set of Hyper-parameters\n",
    "print(hpGrid.best_estimator_)\n",
    "\n",
    "# Print the score (accuracy) of the best Model after CV\n",
    "print(np.abs(hpGrid.best_score_))"
   ]
  },
  {
   "cell_type": "code",
   "execution_count": 37,
   "id": "23fe3fad",
   "metadata": {},
   "outputs": [
    {
     "data": {
      "text/plain": [
       "RandomForestClassifier(max_depth=10, n_estimators=600)"
      ]
     },
     "execution_count": 37,
     "metadata": {},
     "output_type": "execute_result"
    }
   ],
   "source": [
    "y = pd.DataFrame(dataOHE_up[\"claims\"])\n",
    "x = pd.DataFrame(dataOHE_up.drop(\"claims\", axis = 1))\n",
    "\n",
    "xTrain, xTest, yTrain, yTest = train_test_split(x, y, test_size = 0.3)\n",
    "\n",
    "rforest = RandomForestClassifier(n_estimators = 600,\n",
    "                                 max_depth = 10)\n",
    "\n",
    "rforest.fit(xTrain, yTrain.claims.ravel())"
   ]
  },
  {
   "cell_type": "code",
   "execution_count": 38,
   "id": "2b10b12d",
   "metadata": {},
   "outputs": [
    {
     "name": "stdout",
     "output_type": "stream",
     "text": [
      "Train data\n",
      "Accuracy :\t 0.773574936283956\n",
      "\n",
      "TPR :\t 0.7795199801285435\n",
      "TNR :\t 0.7676176845773311\n",
      "\n",
      "FPR :\t 0.23238231542266888\n",
      "FNR :\t 0.22048001987145652\n"
     ]
    },
    {
     "data": {
      "text/plain": [
       "<AxesSubplot:>"
      ]
     },
     "execution_count": 38,
     "metadata": {},
     "output_type": "execute_result"
    },
    {
     "data": {
      "image/png": "[encoded data removed]",
      "text/plain": [
       "<Figure size 432x288 with 2 Axes>"
      ]
     },
     "metadata": {},
     "output_type": "display_data"
    }
   ],
   "source": [
    "yTrain_pred = rforest.predict(xTrain)\n",
    "\n",
    "print(\"Train data\")\n",
    "print(\"Accuracy :\\t\", rforest.score(xTrain, yTrain))\n",
    "print()\n",
    "\n",
    "cmTrain = confusion_matrix(yTrain, yTrain_pred)\n",
    "tnTrain = cmTrain[0][0]\n",
    "fpTrain = cmTrain[0][1]\n",
    "fnTrain = cmTrain[1][0]\n",
    "tpTrain = cmTrain[1][1]\n",
    "\n",
    "print(\"TPR :\\t\", (tpTrain/(tpTrain + fnTrain)))\n",
    "print(\"TNR :\\t\", (tnTrain/(tnTrain + fpTrain)))\n",
    "print()\n",
    "print(\"FPR :\\t\", (fpTrain/(tnTrain + fpTrain)))\n",
    "print(\"FNR :\\t\", (fnTrain/(tpTrain + fnTrain)))\n",
    "\n",
    "sb.heatmap(cmTrain, annot = True, fmt = \".0f\", annot_kws = {\"size\":18})"
   ]
  },
  {
   "cell_type": "code",
   "execution_count": 39,
   "id": "24511267",
   "metadata": {},
   "outputs": [
    {
     "name": "stdout",
     "output_type": "stream",
     "text": [
      "Test data\n",
      "Accuracy :\t 0.7621654942345347\n",
      "\n",
      "TPR :\t 0.7737714451875545\n",
      "TNR :\t 0.750614961655332\n",
      "\n",
      "FPR :\t 0.2493850383446679\n",
      "FNR :\t 0.22622855481244547\n"
     ]
    },
    {
     "data": {
      "text/plain": [
       "<AxesSubplot:>"
      ]
     },
     "execution_count": 39,
     "metadata": {},
     "output_type": "execute_result"
    },
    {
     "data": {
      "image/png": "[encoded data removed]",
      "text/plain": [
       "<Figure size 432x288 with 2 Axes>"
      ]
     },
     "metadata": {},
     "output_type": "display_data"
    }
   ],
   "source": [
    "yTest_pred = rforest.predict(xTest)\n",
    "\n",
    "print(\"Test data\")\n",
    "print(\"Accuracy :\\t\", rforest.score(xTest, yTest))\n",
    "print()\n",
    "\n",
    "cmTest = confusion_matrix(yTest, yTest_pred)\n",
    "tnTest = cmTest[0][0]\n",
    "fpTest = cmTest[0][1]\n",
    "fnTest = cmTest[1][0]\n",
    "tpTest = cmTest[1][1]\n",
    "\n",
    "print(\"TPR :\\t\", (tpTest/(tpTest + fnTest)))\n",
    "print(\"TNR :\\t\", (tnTest/(tnTest + fpTest)))\n",
    "print()\n",
    "print(\"FPR :\\t\", (fpTest/(fpTest + tnTest)))\n",
    "print(\"FNR :\\t\", (fnTest/(fnTest + tpTest)))\n",
    "\n",
    "sb.heatmap(cmTest, annot = True, fmt = \".0f\", annot_kws = {\"size\":18})"
   ]
  },
  {
   "cell_type": "markdown",
   "id": "dfb782d7",
   "metadata": {},
   "source": [
    "---\n",
    "\n",
    "For the second problem, we will be using regression techniques to predict the claim cost.\n",
    "\n",
    "Before that, we will have to filter out only those rows where there is a claim."
   ]
  },
  {
   "cell_type": "code",
   "execution_count": 4,
   "id": "003bc5bc",
   "metadata": {},
   "outputs": [
    {
     "data": {
      "text/html": [
       "<div>\n",
       "<style scoped>\n",
       "    .dataframe tbody tr th:only-of-type {\n",
       "        vertical-align: middle;\n",
       "    }\n",
       "\n",
       "    .dataframe tbody tr th {\n",
       "        vertical-align: top;\n",
       "    }\n",
       "\n",
       "    .dataframe thead th {\n",
       "        text-align: right;\n",
       "    }\n",
       "</style>\n",
       "<table border=\"1\" class=\"dataframe\">\n",
       "  <thead>\n",
       "    <tr style=\"text-align: right;\">\n",
       "      <th></th>\n",
       "      <th>pol_eff_dt</th>\n",
       "      <th>gender</th>\n",
       "      <th>agecat</th>\n",
       "      <th>credit_score</th>\n",
       "      <th>area</th>\n",
       "      <th>traffic_index</th>\n",
       "      <th>veh_age</th>\n",
       "      <th>veh_body</th>\n",
       "      <th>veh_value</th>\n",
       "      <th>numclaims</th>\n",
       "      <th>claimcst0</th>\n",
       "      <th>month</th>\n",
       "      <th>year</th>\n",
       "      <th>monthDiff</th>\n",
       "      <th>claims</th>\n",
       "    </tr>\n",
       "  </thead>\n",
       "  <tbody>\n",
       "    <tr>\n",
       "      <th>14</th>\n",
       "      <td>12/30/2020</td>\n",
       "      <td>M</td>\n",
       "      <td>5.0</td>\n",
       "      <td>45.703093</td>\n",
       "      <td>C</td>\n",
       "      <td>50.814619</td>\n",
       "      <td>67.0</td>\n",
       "      <td>SEDAN</td>\n",
       "      <td>1.5290</td>\n",
       "      <td>1</td>\n",
       "      <td>1120.833360</td>\n",
       "      <td>12.0</td>\n",
       "      <td>2020.0</td>\n",
       "      <td>40.0</td>\n",
       "      <td>Yes</td>\n",
       "    </tr>\n",
       "    <tr>\n",
       "      <th>17</th>\n",
       "      <td>12/30/2020</td>\n",
       "      <td>M</td>\n",
       "      <td>3.0</td>\n",
       "      <td>7.327835</td>\n",
       "      <td>E</td>\n",
       "      <td>9.127648</td>\n",
       "      <td>100.0</td>\n",
       "      <td>UTE</td>\n",
       "      <td>1.6500</td>\n",
       "      <td>2</td>\n",
       "      <td>4548.075015</td>\n",
       "      <td>12.0</td>\n",
       "      <td>2020.0</td>\n",
       "      <td>40.0</td>\n",
       "      <td>Yes</td>\n",
       "    </tr>\n",
       "    <tr>\n",
       "      <th>24</th>\n",
       "      <td>12/30/2020</td>\n",
       "      <td>M</td>\n",
       "      <td>2.0</td>\n",
       "      <td>65.707216</td>\n",
       "      <td>D</td>\n",
       "      <td>42.005297</td>\n",
       "      <td>67.0</td>\n",
       "      <td>TRUCK</td>\n",
       "      <td>3.3440</td>\n",
       "      <td>1</td>\n",
       "      <td>4657.070661</td>\n",
       "      <td>12.0</td>\n",
       "      <td>2020.0</td>\n",
       "      <td>40.0</td>\n",
       "      <td>Yes</td>\n",
       "    </tr>\n",
       "    <tr>\n",
       "      <th>27</th>\n",
       "      <td>12/30/2020</td>\n",
       "      <td>F</td>\n",
       "      <td>2.0</td>\n",
       "      <td>14.472165</td>\n",
       "      <td>C</td>\n",
       "      <td>53.960805</td>\n",
       "      <td>1.0</td>\n",
       "      <td>HBACK</td>\n",
       "      <td>2.4178</td>\n",
       "      <td>3</td>\n",
       "      <td>6616.971570</td>\n",
       "      <td>12.0</td>\n",
       "      <td>2020.0</td>\n",
       "      <td>40.0</td>\n",
       "      <td>Yes</td>\n",
       "    </tr>\n",
       "    <tr>\n",
       "      <th>32</th>\n",
       "      <td>12/30/2020</td>\n",
       "      <td>F</td>\n",
       "      <td>3.0</td>\n",
       "      <td>47.540206</td>\n",
       "      <td>D</td>\n",
       "      <td>52.964513</td>\n",
       "      <td>1.0</td>\n",
       "      <td>SEDAN</td>\n",
       "      <td>2.7500</td>\n",
       "      <td>1</td>\n",
       "      <td>4442.096621</td>\n",
       "      <td>12.0</td>\n",
       "      <td>2020.0</td>\n",
       "      <td>40.0</td>\n",
       "      <td>Yes</td>\n",
       "    </tr>\n",
       "    <tr>\n",
       "      <th>...</th>\n",
       "      <td>...</td>\n",
       "      <td>...</td>\n",
       "      <td>...</td>\n",
       "      <td>...</td>\n",
       "      <td>...</td>\n",
       "      <td>...</td>\n",
       "      <td>...</td>\n",
       "      <td>...</td>\n",
       "      <td>...</td>\n",
       "      <td>...</td>\n",
       "      <td>...</td>\n",
       "      <td>...</td>\n",
       "      <td>...</td>\n",
       "      <td>...</td>\n",
       "      <td>...</td>\n",
       "    </tr>\n",
       "    <tr>\n",
       "      <th>54093</th>\n",
       "      <td>1/2/2020</td>\n",
       "      <td>M</td>\n",
       "      <td>4.0</td>\n",
       "      <td>16.921649</td>\n",
       "      <td>C</td>\n",
       "      <td>51.601165</td>\n",
       "      <td>100.0</td>\n",
       "      <td>HBACK</td>\n",
       "      <td>0.9350</td>\n",
       "      <td>1</td>\n",
       "      <td>804.425046</td>\n",
       "      <td>1.0</td>\n",
       "      <td>2020.0</td>\n",
       "      <td>39.0</td>\n",
       "      <td>Yes</td>\n",
       "    </tr>\n",
       "    <tr>\n",
       "      <th>54101</th>\n",
       "      <td>1/2/2020</td>\n",
       "      <td>F</td>\n",
       "      <td>3.0</td>\n",
       "      <td>65.707216</td>\n",
       "      <td>B</td>\n",
       "      <td>50.395127</td>\n",
       "      <td>100.0</td>\n",
       "      <td>SEDAN</td>\n",
       "      <td>1.1550</td>\n",
       "      <td>1</td>\n",
       "      <td>408.363278</td>\n",
       "      <td>1.0</td>\n",
       "      <td>2020.0</td>\n",
       "      <td>39.0</td>\n",
       "      <td>Yes</td>\n",
       "    </tr>\n",
       "    <tr>\n",
       "      <th>54116</th>\n",
       "      <td>1/2/2020</td>\n",
       "      <td>M</td>\n",
       "      <td>4.0</td>\n",
       "      <td>45.294845</td>\n",
       "      <td>C</td>\n",
       "      <td>64.972458</td>\n",
       "      <td>100.0</td>\n",
       "      <td>SEDAN</td>\n",
       "      <td>0.3850</td>\n",
       "      <td>1</td>\n",
       "      <td>490.897473</td>\n",
       "      <td>1.0</td>\n",
       "      <td>2020.0</td>\n",
       "      <td>39.0</td>\n",
       "      <td>Yes</td>\n",
       "    </tr>\n",
       "    <tr>\n",
       "      <th>54117</th>\n",
       "      <td>1/2/2020</td>\n",
       "      <td>M</td>\n",
       "      <td>1.0</td>\n",
       "      <td>51.010309</td>\n",
       "      <td>A</td>\n",
       "      <td>35.817797</td>\n",
       "      <td>67.0</td>\n",
       "      <td>HBACK</td>\n",
       "      <td>1.1220</td>\n",
       "      <td>1</td>\n",
       "      <td>402.791766</td>\n",
       "      <td>1.0</td>\n",
       "      <td>2020.0</td>\n",
       "      <td>39.0</td>\n",
       "      <td>Yes</td>\n",
       "    </tr>\n",
       "    <tr>\n",
       "      <th>54119</th>\n",
       "      <td>1/2/2020</td>\n",
       "      <td>M</td>\n",
       "      <td>4.0</td>\n",
       "      <td>49.377320</td>\n",
       "      <td>A</td>\n",
       "      <td>28.791314</td>\n",
       "      <td>34.0</td>\n",
       "      <td>UTE</td>\n",
       "      <td>2.7170</td>\n",
       "      <td>1</td>\n",
       "      <td>1162.558306</td>\n",
       "      <td>1.0</td>\n",
       "      <td>2020.0</td>\n",
       "      <td>39.0</td>\n",
       "      <td>Yes</td>\n",
       "    </tr>\n",
       "  </tbody>\n",
       "</table>\n",
       "<p>8172 rows × 15 columns</p>\n",
       "</div>"
      ],
      "text/plain": [
       "       pol_eff_dt gender  agecat  credit_score area  traffic_index  veh_age  \\\n",
       "14     12/30/2020      M     5.0     45.703093    C      50.814619     67.0   \n",
       "17     12/30/2020      M     3.0      7.327835    E       9.127648    100.0   \n",
       "24     12/30/2020      M     2.0     65.707216    D      42.005297     67.0   \n",
       "27     12/30/2020      F     2.0     14.472165    C      53.960805      1.0   \n",
       "32     12/30/2020      F     3.0     47.540206    D      52.964513      1.0   \n",
       "...           ...    ...     ...           ...  ...            ...      ...   \n",
       "54093    1/2/2020      M     4.0     16.921649    C      51.601165    100.0   \n",
       "54101    1/2/2020      F     3.0     65.707216    B      50.395127    100.0   \n",
       "54116    1/2/2020      M     4.0     45.294845    C      64.972458    100.0   \n",
       "54117    1/2/2020      M     1.0     51.010309    A      35.817797     67.0   \n",
       "54119    1/2/2020      M     4.0     49.377320    A      28.791314     34.0   \n",
       "\n",
       "      veh_body  veh_value  numclaims    claimcst0  month    year  monthDiff  \\\n",
       "14       SEDAN     1.5290          1  1120.833360   12.0  2020.0       40.0   \n",
       "17         UTE     1.6500          2  4548.075015   12.0  2020.0       40.0   \n",
       "24       TRUCK     3.3440          1  4657.070661   12.0  2020.0       40.0   \n",
       "27       HBACK     2.4178          3  6616.971570   12.0  2020.0       40.0   \n",
       "32       SEDAN     2.7500          1  4442.096621   12.0  2020.0       40.0   \n",
       "...        ...        ...        ...          ...    ...     ...        ...   \n",
       "54093    HBACK     0.9350          1   804.425046    1.0  2020.0       39.0   \n",
       "54101    SEDAN     1.1550          1   408.363278    1.0  2020.0       39.0   \n",
       "54116    SEDAN     0.3850          1   490.897473    1.0  2020.0       39.0   \n",
       "54117    HBACK     1.1220          1   402.791766    1.0  2020.0       39.0   \n",
       "54119      UTE     2.7170          1  1162.558306    1.0  2020.0       39.0   \n",
       "\n",
       "      claims  \n",
       "14       Yes  \n",
       "17       Yes  \n",
       "24       Yes  \n",
       "27       Yes  \n",
       "32       Yes  \n",
       "...      ...  \n",
       "54093    Yes  \n",
       "54101    Yes  \n",
       "54116    Yes  \n",
       "54117    Yes  \n",
       "54119    Yes  \n",
       "\n",
       "[8172 rows x 15 columns]"
      ]
     },
     "execution_count": 4,
     "metadata": {},
     "output_type": "execute_result"
    }
   ],
   "source": [
    "data2 = data[data.numclaims > 0]\n",
    "data2"
   ]
  },
  {
   "cell_type": "code",
   "execution_count": 5,
   "id": "77681b8f",
   "metadata": {
    "scrolled": false
   },
   "outputs": [
    {
     "data": {
      "text/html": [
       "<div>\n",
       "<style scoped>\n",
       "    .dataframe tbody tr th:only-of-type {\n",
       "        vertical-align: middle;\n",
       "    }\n",
       "\n",
       "    .dataframe tbody tr th {\n",
       "        vertical-align: top;\n",
       "    }\n",
       "\n",
       "    .dataframe thead th {\n",
       "        text-align: right;\n",
       "    }\n",
       "</style>\n",
       "<table border=\"1\" class=\"dataframe\">\n",
       "  <thead>\n",
       "    <tr style=\"text-align: right;\">\n",
       "      <th></th>\n",
       "      <th>gender</th>\n",
       "      <th>agecat</th>\n",
       "      <th>credit_score</th>\n",
       "      <th>area</th>\n",
       "      <th>traffic_index</th>\n",
       "      <th>veh_age</th>\n",
       "      <th>veh_body</th>\n",
       "      <th>veh_value</th>\n",
       "      <th>numclaims</th>\n",
       "      <th>claimcst0</th>\n",
       "      <th>monthDiff</th>\n",
       "    </tr>\n",
       "  </thead>\n",
       "  <tbody>\n",
       "    <tr>\n",
       "      <th>14</th>\n",
       "      <td>M</td>\n",
       "      <td>5.0</td>\n",
       "      <td>45.703093</td>\n",
       "      <td>C</td>\n",
       "      <td>50.814619</td>\n",
       "      <td>67.0</td>\n",
       "      <td>SEDAN</td>\n",
       "      <td>1.5290</td>\n",
       "      <td>1</td>\n",
       "      <td>1120.833360</td>\n",
       "      <td>40.0</td>\n",
       "    </tr>\n",
       "    <tr>\n",
       "      <th>17</th>\n",
       "      <td>M</td>\n",
       "      <td>3.0</td>\n",
       "      <td>7.327835</td>\n",
       "      <td>E</td>\n",
       "      <td>9.127648</td>\n",
       "      <td>100.0</td>\n",
       "      <td>UTE</td>\n",
       "      <td>1.6500</td>\n",
       "      <td>2</td>\n",
       "      <td>4548.075015</td>\n",
       "      <td>40.0</td>\n",
       "    </tr>\n",
       "    <tr>\n",
       "      <th>24</th>\n",
       "      <td>M</td>\n",
       "      <td>2.0</td>\n",
       "      <td>65.707216</td>\n",
       "      <td>D</td>\n",
       "      <td>42.005297</td>\n",
       "      <td>67.0</td>\n",
       "      <td>TRUCK</td>\n",
       "      <td>3.3440</td>\n",
       "      <td>1</td>\n",
       "      <td>4657.070661</td>\n",
       "      <td>40.0</td>\n",
       "    </tr>\n",
       "    <tr>\n",
       "      <th>27</th>\n",
       "      <td>F</td>\n",
       "      <td>2.0</td>\n",
       "      <td>14.472165</td>\n",
       "      <td>C</td>\n",
       "      <td>53.960805</td>\n",
       "      <td>1.0</td>\n",
       "      <td>HBACK</td>\n",
       "      <td>2.4178</td>\n",
       "      <td>3</td>\n",
       "      <td>6616.971570</td>\n",
       "      <td>40.0</td>\n",
       "    </tr>\n",
       "    <tr>\n",
       "      <th>32</th>\n",
       "      <td>F</td>\n",
       "      <td>3.0</td>\n",
       "      <td>47.540206</td>\n",
       "      <td>D</td>\n",
       "      <td>52.964513</td>\n",
       "      <td>1.0</td>\n",
       "      <td>SEDAN</td>\n",
       "      <td>2.7500</td>\n",
       "      <td>1</td>\n",
       "      <td>4442.096621</td>\n",
       "      <td>40.0</td>\n",
       "    </tr>\n",
       "    <tr>\n",
       "      <th>...</th>\n",
       "      <td>...</td>\n",
       "      <td>...</td>\n",
       "      <td>...</td>\n",
       "      <td>...</td>\n",
       "      <td>...</td>\n",
       "      <td>...</td>\n",
       "      <td>...</td>\n",
       "      <td>...</td>\n",
       "      <td>...</td>\n",
       "      <td>...</td>\n",
       "      <td>...</td>\n",
       "    </tr>\n",
       "    <tr>\n",
       "      <th>54093</th>\n",
       "      <td>M</td>\n",
       "      <td>4.0</td>\n",
       "      <td>16.921649</td>\n",
       "      <td>C</td>\n",
       "      <td>51.601165</td>\n",
       "      <td>100.0</td>\n",
       "      <td>HBACK</td>\n",
       "      <td>0.9350</td>\n",
       "      <td>1</td>\n",
       "      <td>804.425046</td>\n",
       "      <td>39.0</td>\n",
       "    </tr>\n",
       "    <tr>\n",
       "      <th>54101</th>\n",
       "      <td>F</td>\n",
       "      <td>3.0</td>\n",
       "      <td>65.707216</td>\n",
       "      <td>B</td>\n",
       "      <td>50.395127</td>\n",
       "      <td>100.0</td>\n",
       "      <td>SEDAN</td>\n",
       "      <td>1.1550</td>\n",
       "      <td>1</td>\n",
       "      <td>408.363278</td>\n",
       "      <td>39.0</td>\n",
       "    </tr>\n",
       "    <tr>\n",
       "      <th>54116</th>\n",
       "      <td>M</td>\n",
       "      <td>4.0</td>\n",
       "      <td>45.294845</td>\n",
       "      <td>C</td>\n",
       "      <td>64.972458</td>\n",
       "      <td>100.0</td>\n",
       "      <td>SEDAN</td>\n",
       "      <td>0.3850</td>\n",
       "      <td>1</td>\n",
       "      <td>490.897473</td>\n",
       "      <td>39.0</td>\n",
       "    </tr>\n",
       "    <tr>\n",
       "      <th>54117</th>\n",
       "      <td>M</td>\n",
       "      <td>1.0</td>\n",
       "      <td>51.010309</td>\n",
       "      <td>A</td>\n",
       "      <td>35.817797</td>\n",
       "      <td>67.0</td>\n",
       "      <td>HBACK</td>\n",
       "      <td>1.1220</td>\n",
       "      <td>1</td>\n",
       "      <td>402.791766</td>\n",
       "      <td>39.0</td>\n",
       "    </tr>\n",
       "    <tr>\n",
       "      <th>54119</th>\n",
       "      <td>M</td>\n",
       "      <td>4.0</td>\n",
       "      <td>49.377320</td>\n",
       "      <td>A</td>\n",
       "      <td>28.791314</td>\n",
       "      <td>34.0</td>\n",
       "      <td>UTE</td>\n",
       "      <td>2.7170</td>\n",
       "      <td>1</td>\n",
       "      <td>1162.558306</td>\n",
       "      <td>39.0</td>\n",
       "    </tr>\n",
       "  </tbody>\n",
       "</table>\n",
       "<p>8172 rows × 11 columns</p>\n",
       "</div>"
      ],
      "text/plain": [
       "      gender  agecat  credit_score area  traffic_index  veh_age veh_body  \\\n",
       "14         M     5.0     45.703093    C      50.814619     67.0    SEDAN   \n",
       "17         M     3.0      7.327835    E       9.127648    100.0      UTE   \n",
       "24         M     2.0     65.707216    D      42.005297     67.0    TRUCK   \n",
       "27         F     2.0     14.472165    C      53.960805      1.0    HBACK   \n",
       "32         F     3.0     47.540206    D      52.964513      1.0    SEDAN   \n",
       "...      ...     ...           ...  ...            ...      ...      ...   \n",
       "54093      M     4.0     16.921649    C      51.601165    100.0    HBACK   \n",
       "54101      F     3.0     65.707216    B      50.395127    100.0    SEDAN   \n",
       "54116      M     4.0     45.294845    C      64.972458    100.0    SEDAN   \n",
       "54117      M     1.0     51.010309    A      35.817797     67.0    HBACK   \n",
       "54119      M     4.0     49.377320    A      28.791314     34.0      UTE   \n",
       "\n",
       "       veh_value  numclaims    claimcst0  monthDiff  \n",
       "14        1.5290          1  1120.833360       40.0  \n",
       "17        1.6500          2  4548.075015       40.0  \n",
       "24        3.3440          1  4657.070661       40.0  \n",
       "27        2.4178          3  6616.971570       40.0  \n",
       "32        2.7500          1  4442.096621       40.0  \n",
       "...          ...        ...          ...        ...  \n",
       "54093     0.9350          1   804.425046       39.0  \n",
       "54101     1.1550          1   408.363278       39.0  \n",
       "54116     0.3850          1   490.897473       39.0  \n",
       "54117     1.1220          1   402.791766       39.0  \n",
       "54119     2.7170          1  1162.558306       39.0  \n",
       "\n",
       "[8172 rows x 11 columns]"
      ]
     },
     "execution_count": 5,
     "metadata": {},
     "output_type": "execute_result"
    }
   ],
   "source": [
    "data_lin = data2.copy()\n",
    "data_lin.drop([\"pol_eff_dt\", \"month\", \"year\", \"claims\"], axis = 1)"
   ]
  },
  {
   "cell_type": "markdown",
   "id": "e65f86ce",
   "metadata": {},
   "source": [
    "---\n",
    "\n",
    "Similarly, we have to convert the categorical data to numerical.\n",
    "\n",
    "This time, we used `DummyEncoding`.\n",
    "\n",
    "The data is also split into train and test set, with test size being 30%.\n",
    "\n",
    "We will be performing `LinearRegression`"
   ]
  },
  {
   "cell_type": "code",
   "execution_count": 436,
   "id": "e44edae9",
   "metadata": {
    "scrolled": true
   },
   "outputs": [
    {
     "data": {
      "text/plain": [
       "LinearRegression()"
      ]
     },
     "execution_count": 436,
     "metadata": {},
     "output_type": "execute_result"
    }
   ],
   "source": [
    "# x = data[[\"gender\", \"agecat\", \"area\", \"veh_body\", \"credit_score\", \"traffic_index\", \"veh_age\", \"veh_body\", \"numclaims\"]]\n",
    "# x = pd.get_dummies(data = x, drop_first = True)\n",
    "x = pd.DataFrame(data_lin.drop([\"claimcst0\"], axis = 1))\n",
    "x = pd.get_dummies(data = x, drop_first = True)\n",
    "y = pd.DataFrame(data_lin[\"claimcst0\"])\n",
    "\n",
    "xTrain, xTest, yTrain, yTest = train_test_split(x, y, test_size = 0.3)\n",
    "\n",
    "linreg = LinearRegression()\n",
    "linreg.fit(xTrain, yTrain)"
   ]
  },
  {
   "cell_type": "code",
   "execution_count": 437,
   "id": "8adb0e3a",
   "metadata": {},
   "outputs": [
    {
     "name": "stdout",
     "output_type": "stream",
     "text": [
      "Goodness of Fit of Model \tTrain Dataset\n",
      "Explained Variance (R^2) \t: 0.9715623162221501\n",
      "Mean Squared Error (MSE) \t: 967179.9051028119\n",
      "\n",
      "Goodness of Fit of Model \tTest Dataset\n",
      "Explained Variance (R^2) \t: -9.842234758941654e+17\n",
      "Mean Squared Error (MSE) \t: 2.6634073222959267e+25\n",
      "\n"
     ]
    }
   ],
   "source": [
    "yTrain_pred = linreg.predict(xTrain)\n",
    "yTest_pred = linreg.predict(xTest)\n",
    "\n",
    "print(\"Goodness of Fit of Model \\tTrain Dataset\")\n",
    "print(\"Explained Variance (R^2) \\t:\", linreg.score(xTrain, yTrain))\n",
    "print(\"Mean Squared Error (MSE) \\t:\", mean_squared_error(yTrain, yTrain_pred))\n",
    "print()\n",
    "\n",
    "# Check the Goodness of Fit (on Test Data)\n",
    "print(\"Goodness of Fit of Model \\tTest Dataset\")\n",
    "print(\"Explained Variance (R^2) \\t:\", linreg.score(xTest, yTest))\n",
    "print(\"Mean Squared Error (MSE) \\t:\", mean_squared_error(yTest, yTest_pred))\n",
    "print()"
   ]
  },
  {
   "cell_type": "code",
   "execution_count": 438,
   "id": "7c44c4b3",
   "metadata": {},
   "outputs": [
    {
     "data": {
      "text/plain": [
       "LinearRegression()"
      ]
     },
     "execution_count": 438,
     "metadata": {},
     "output_type": "execute_result"
    }
   ],
   "source": [
    "x = pd.DataFrame(data_lin.drop([\"claimcst0\", \"veh_value\"], axis = 1))\n",
    "x = pd.get_dummies(data = x, drop_first = True)\n",
    "y = pd.DataFrame(data_lin[\"claimcst0\"])\n",
    "\n",
    "xTrain, xTest, yTrain, yTest = train_test_split(x, y, test_size = 0.3)\n",
    "\n",
    "linreg = LinearRegression()\n",
    "linreg.fit(xTrain, yTrain)"
   ]
  },
  {
   "cell_type": "code",
   "execution_count": 439,
   "id": "bd46092f",
   "metadata": {},
   "outputs": [
    {
     "name": "stdout",
     "output_type": "stream",
     "text": [
      "Goodness of Fit of Model \tTrain Dataset\n",
      "Explained Variance (R^2) \t: 0.9731026119802697\n",
      "Mean Squared Error (MSE) \t: 838628.8477831443\n",
      "\n",
      "Goodness of Fit of Model \tTest Dataset\n",
      "Explained Variance (R^2) \t: -1.01833216655943e+16\n",
      "Mean Squared Error (MSE) \t: 3.4304955532653414e+23\n",
      "\n"
     ]
    }
   ],
   "source": [
    "yTrain_pred = linreg.predict(xTrain)\n",
    "yTest_pred = linreg.predict(xTest)\n",
    "\n",
    "print(\"Goodness of Fit of Model \\tTrain Dataset\")\n",
    "print(\"Explained Variance (R^2) \\t:\", linreg.score(xTrain, yTrain))\n",
    "print(\"Mean Squared Error (MSE) \\t:\", mean_squared_error(yTrain, yTrain_pred))\n",
    "print()\n",
    "\n",
    "# Check the Goodness of Fit (on Test Data)\n",
    "print(\"Goodness of Fit of Model \\tTest Dataset\")\n",
    "print(\"Explained Variance (R^2) \\t:\", linreg.score(xTest, yTest))\n",
    "print(\"Mean Squared Error (MSE) \\t:\", mean_squared_error(yTest, yTest_pred))\n",
    "print()"
   ]
  },
  {
   "cell_type": "code",
   "execution_count": 449,
   "id": "ee8eca77",
   "metadata": {},
   "outputs": [
    {
     "data": {
      "text/plain": [
       "LinearRegression()"
      ]
     },
     "execution_count": 449,
     "metadata": {},
     "output_type": "execute_result"
    }
   ],
   "source": [
    "x = pd.DataFrame(data_lin.drop([\"claimcst0\", \"veh_value\", \"veh_age\"], axis = 1))\n",
    "x = pd.get_dummies(data = x, drop_first = True)\n",
    "y = pd.DataFrame(data_lin[\"claimcst0\"])\n",
    "\n",
    "xTrain, xTest, yTrain, yTest = train_test_split(x, y, test_size = 0.3)\n",
    "\n",
    "linreg = LinearRegression()\n",
    "linreg.fit(xTrain, yTrain)"
   ]
  },
  {
   "cell_type": "code",
   "execution_count": 441,
   "id": "a3ca34d0",
   "metadata": {},
   "outputs": [
    {
     "name": "stdout",
     "output_type": "stream",
     "text": [
      "Goodness of Fit of Model \tTrain Dataset\n",
      "Explained Variance (R^2) \t: 0.9763423455714868\n",
      "Mean Squared Error (MSE) \t: 715254.6780586382\n",
      "\n",
      "Goodness of Fit of Model \tTest Dataset\n",
      "Explained Variance (R^2) \t: -0.6898495142629417\n",
      "Mean Squared Error (MSE) \t: 60649412.78321482\n",
      "\n"
     ]
    }
   ],
   "source": [
    "yTrain_pred = linreg.predict(xTrain)\n",
    "yTest_pred = linreg.predict(xTest)\n",
    "\n",
    "print(\"Goodness of Fit of Model \\tTrain Dataset\")\n",
    "print(\"Explained Variance (R^2) \\t:\", linreg.score(xTrain, yTrain))\n",
    "print(\"Mean Squared Error (MSE) \\t:\", mean_squared_error(yTrain, yTrain_pred))\n",
    "print()\n",
    "\n",
    "# Check the Goodness of Fit (on Test Data)\n",
    "print(\"Goodness of Fit of Model \\tTest Dataset\")\n",
    "print(\"Explained Variance (R^2) \\t:\", linreg.score(xTest, yTest))\n",
    "print(\"Mean Squared Error (MSE) \\t:\", mean_squared_error(yTest, yTest_pred))\n",
    "print()"
   ]
  },
  {
   "cell_type": "code",
   "execution_count": 460,
   "id": "bcbe34db",
   "metadata": {},
   "outputs": [
    {
     "data": {
      "text/plain": [
       "LinearRegression()"
      ]
     },
     "execution_count": 460,
     "metadata": {},
     "output_type": "execute_result"
    }
   ],
   "source": [
    "x = pd.DataFrame(data_lin.drop([\"claimcst0\", \"veh_value\", \"veh_age\", \"gender\"], axis = 1))\n",
    "x = pd.get_dummies(data = x, drop_first = True)\n",
    "y = pd.DataFrame(data_lin[\"claimcst0\"])\n",
    "\n",
    "xTrain, xTest, yTrain, yTest = train_test_split(x, y, test_size = 0.3)\n",
    "\n",
    "linreg = LinearRegression()\n",
    "linreg.fit(xTrain, yTrain)"
   ]
  },
  {
   "cell_type": "code",
   "execution_count": 461,
   "id": "48aeb1e3",
   "metadata": {},
   "outputs": [
    {
     "name": "stdout",
     "output_type": "stream",
     "text": [
      "Goodness of Fit of Model \tTrain Dataset\n",
      "Explained Variance (R^2) \t: 0.9704139753700755\n",
      "Mean Squared Error (MSE) \t: 934884.1760800723\n",
      "\n",
      "Goodness of Fit of Model \tTest Dataset\n",
      "Explained Variance (R^2) \t: -0.5223956880081411\n",
      "Mean Squared Error (MSE) \t: 49792533.48301083\n",
      "\n"
     ]
    }
   ],
   "source": [
    "yTrain_pred = linreg.predict(xTrain)\n",
    "yTest_pred = linreg.predict(xTest)\n",
    "\n",
    "print(\"Goodness of Fit of Model \\tTrain Dataset\")\n",
    "print(\"Explained Variance (R^2) \\t:\", linreg.score(xTrain, yTrain))\n",
    "print(\"Mean Squared Error (MSE) \\t:\", mean_squared_error(yTrain, yTrain_pred))\n",
    "print()\n",
    "\n",
    "# Check the Goodness of Fit (on Test Data)\n",
    "print(\"Goodness of Fit of Model \\tTest Dataset\")\n",
    "print(\"Explained Variance (R^2) \\t:\", linreg.score(xTest, yTest))\n",
    "print(\"Mean Squared Error (MSE) \\t:\", mean_squared_error(yTest, yTest_pred))\n",
    "print()"
   ]
  },
  {
   "cell_type": "code",
   "execution_count": null,
   "id": "e4acbe48",
   "metadata": {},
   "outputs": [],
   "source": []
  },
  {
   "cell_type": "markdown",
   "id": "b138dedf",
   "metadata": {},
   "source": [
    "Lastly, we perform `RidgeRegression`"
   ]
  },
  {
   "cell_type": "code",
   "execution_count": 520,
   "id": "14d5aba0",
   "metadata": {},
   "outputs": [
    {
     "data": {
      "text/plain": [
       "Ridge(alpha=5)"
      ]
     },
     "execution_count": 520,
     "metadata": {},
     "output_type": "execute_result"
    }
   ],
   "source": [
    "x = pd.DataFrame(data_lin.drop([\"claimcst0\", \"veh_value\", \"gender\"], axis = 1))\n",
    "x = pd.get_dummies(data = x, drop_first = True)\n",
    "y = pd.DataFrame(data_lin[\"claimcst0\"])\n",
    "\n",
    "xTrain, xTest, yTrain, yTest = train_test_split(x, y, test_size = 0.3)\n",
    "\n",
    "ridgereg = Ridge(alpha = 5)\n",
    "\n",
    "ridgereg.fit(xTrain, yTrain)"
   ]
  },
  {
   "cell_type": "code",
   "execution_count": 521,
   "id": "27669e03",
   "metadata": {},
   "outputs": [
    {
     "name": "stdout",
     "output_type": "stream",
     "text": [
      "Goodness of Fit of Model \tTrain Dataset\n",
      "Explained Variance (R^2) \t: 0.5747866440699785\n",
      "Mean Squared Error (MSE) \t: 13338107.616857424\n",
      "\n",
      "Goodness of Fit of Model \tTest Dataset\n",
      "Explained Variance (R^2) \t: 0.3442336847769233\n",
      "Mean Squared Error (MSE) \t: 21787827.330715105\n",
      "\n"
     ]
    }
   ],
   "source": [
    "yTrain_pred = ridgereg.predict(xTrain)\n",
    "yTest_pred = ridgereg.predict(xTest)\n",
    "\n",
    "print(\"Goodness of Fit of Model \\tTrain Dataset\")\n",
    "print(\"Explained Variance (R^2) \\t:\", ridgereg.score(xTrain, yTrain))\n",
    "print(\"Mean Squared Error (MSE) \\t:\", mean_squared_error(yTrain, yTrain_pred))\n",
    "print()\n",
    "\n",
    "# Check the Goodness of Fit (on Test Data)\n",
    "print(\"Goodness of Fit of Model \\tTest Dataset\")\n",
    "print(\"Explained Variance (R^2) \\t:\", ridgereg.score(xTest, yTest))\n",
    "print(\"Mean Squared Error (MSE) \\t:\", mean_squared_error(yTest, yTest_pred))\n",
    "print()"
   ]
  },
  {
   "cell_type": "code",
   "execution_count": 564,
   "id": "fab85715",
   "metadata": {},
   "outputs": [
    {
     "data": {
      "text/plain": [
       "Ridge(alpha=3)"
      ]
     },
     "execution_count": 564,
     "metadata": {},
     "output_type": "execute_result"
    }
   ],
   "source": [
    "x = pd.DataFrame(data_lin.drop([\"claimcst0\", \"veh_value\", \"gender\"], axis = 1))\n",
    "x = pd.get_dummies(data = x, drop_first = True)\n",
    "y = pd.DataFrame(data_lin[\"claimcst0\"])\n",
    "\n",
    "xTrain, xTest, yTrain, yTest = train_test_split(x, y, test_size = 0.3)\n",
    "\n",
    "ridgereg = Ridge(alpha = 3)\n",
    "\n",
    "ridgereg.fit(xTrain, yTrain)"
   ]
  },
  {
   "cell_type": "code",
   "execution_count": 565,
   "id": "9f45b4e2",
   "metadata": {},
   "outputs": [
    {
     "name": "stdout",
     "output_type": "stream",
     "text": [
      "Goodness of Fit of Model \tTrain Dataset\n",
      "Explained Variance (R^2) \t: 0.6476184641868481\n",
      "Mean Squared Error (MSE) \t: 11920764.76774165\n",
      "\n",
      "Goodness of Fit of Model \tTest Dataset\n",
      "Explained Variance (R^2) \t: 0.34654418960183453\n",
      "Mean Squared Error (MSE) \t: 17964317.636825893\n",
      "\n"
     ]
    }
   ],
   "source": [
    "yTrain_pred = ridgereg.predict(xTrain)\n",
    "yTest_pred = ridgereg.predict(xTest)\n",
    "\n",
    "print(\"Goodness of Fit of Model \\tTrain Dataset\")\n",
    "print(\"Explained Variance (R^2) \\t:\", ridgereg.score(xTrain, yTrain))\n",
    "print(\"Mean Squared Error (MSE) \\t:\", mean_squared_error(yTrain, yTrain_pred))\n",
    "print()\n",
    "\n",
    "# Check the Goodness of Fit (on Test Data)\n",
    "print(\"Goodness of Fit of Model \\tTest Dataset\")\n",
    "print(\"Explained Variance (R^2) \\t:\", ridgereg.score(xTest, yTest))\n",
    "print(\"Mean Squared Error (MSE) \\t:\", mean_squared_error(yTest, yTest_pred))\n",
    "print()"
   ]
  },
  {
   "cell_type": "code",
   "execution_count": 598,
   "id": "41ee2535",
   "metadata": {},
   "outputs": [
    {
     "data": {
      "text/plain": [
       "Ridge(alpha=1)"
      ]
     },
     "execution_count": 598,
     "metadata": {},
     "output_type": "execute_result"
    }
   ],
   "source": [
    "x = pd.DataFrame(data_lin.drop([\"claimcst0\", \"veh_value\", \"gender\"], axis = 1))\n",
    "x = pd.get_dummies(data = x, drop_first = True)\n",
    "y = pd.DataFrame(data_lin[\"claimcst0\"])\n",
    "\n",
    "xTrain, xTest, yTrain, yTest = train_test_split(x, y, test_size = 0.3)\n",
    "\n",
    "ridgereg = Ridge(alpha = 1)\n",
    "\n",
    "ridgereg.fit(xTrain, yTrain)"
   ]
  },
  {
   "cell_type": "code",
   "execution_count": 599,
   "id": "3eb945b7",
   "metadata": {},
   "outputs": [
    {
     "name": "stdout",
     "output_type": "stream",
     "text": [
      "Goodness of Fit of Model \tTrain Dataset\n",
      "Explained Variance (R^2) \t: 0.8222488181791843\n",
      "Mean Squared Error (MSE) \t: 5753073.318385033\n",
      "\n",
      "Goodness of Fit of Model \tTest Dataset\n",
      "Explained Variance (R^2) \t: 0.3022691998862743\n",
      "Mean Squared Error (MSE) \t: 21572444.482867166\n",
      "\n"
     ]
    }
   ],
   "source": [
    "yTrain_pred = ridgereg.predict(xTrain)\n",
    "yTest_pred = ridgereg.predict(xTest)\n",
    "\n",
    "print(\"Goodness of Fit of Model \\tTrain Dataset\")\n",
    "print(\"Explained Variance (R^2) \\t:\", ridgereg.score(xTrain, yTrain))\n",
    "print(\"Mean Squared Error (MSE) \\t:\", mean_squared_error(yTrain, yTrain_pred))\n",
    "print()\n",
    "\n",
    "# Check the Goodness of Fit (on Test Data)\n",
    "print(\"Goodness of Fit of Model \\tTest Dataset\")\n",
    "print(\"Explained Variance (R^2) \\t:\", ridgereg.score(xTest, yTest))\n",
    "print(\"Mean Squared Error (MSE) \\t:\", mean_squared_error(yTest, yTest_pred))\n",
    "print()"
   ]
  },
  {
   "cell_type": "code",
   "execution_count": 10,
   "id": "c51beac1",
   "metadata": {},
   "outputs": [
    {
     "data": {
      "text/plain": [
       "Ridge(alpha=1)"
      ]
     },
     "execution_count": 10,
     "metadata": {},
     "output_type": "execute_result"
    }
   ],
   "source": [
    "x = pd.DataFrame(data_lin.drop([\"claimcst0\", \"veh_value\", \"gender\", \"veh_body\"], axis = 1))\n",
    "x = pd.get_dummies(data = x, drop_first = True)\n",
    "y = pd.DataFrame(data_lin[\"claimcst0\"])\n",
    "\n",
    "xTrain, xTest, yTrain, yTest = train_test_split(x, y, test_size = 0.3)\n",
    "\n",
    "ridgereg = Ridge(alpha = 1)\n",
    "\n",
    "ridgereg.fit(xTrain, yTrain)"
   ]
  },
  {
   "cell_type": "code",
   "execution_count": 11,
   "id": "242f7eae",
   "metadata": {},
   "outputs": [
    {
     "name": "stdout",
     "output_type": "stream",
     "text": [
      "Goodness of Fit of Model \tTrain Dataset\n",
      "Explained Variance (R^2) \t: 0.37765959694317497\n",
      "Mean Squared Error (MSE) \t: 19888924.020078793\n",
      "\n",
      "Goodness of Fit of Model \tTest Dataset\n",
      "Explained Variance (R^2) \t: 0.2585101785944077\n",
      "Mean Squared Error (MSE) \t: 23626873.938419927\n",
      "\n"
     ]
    }
   ],
   "source": [
    "yTrain_pred = ridgereg.predict(xTrain)\n",
    "yTest_pred = ridgereg.predict(xTest)\n",
    "\n",
    "print(\"Goodness of Fit of Model \\tTrain Dataset\")\n",
    "print(\"Explained Variance (R^2) \\t:\", ridgereg.score(xTrain, yTrain))\n",
    "print(\"Mean Squared Error (MSE) \\t:\", mean_squared_error(yTrain, yTrain_pred))\n",
    "print()\n",
    "\n",
    "# Check the Goodness of Fit (on Test Data)\n",
    "print(\"Goodness of Fit of Model \\tTest Dataset\")\n",
    "print(\"Explained Variance (R^2) \\t:\", ridgereg.score(xTest, yTest))\n",
    "print(\"Mean Squared Error (MSE) \\t:\", mean_squared_error(yTest, yTest_pred))\n",
    "print()"
   ]
  },
  {
   "cell_type": "code",
   "execution_count": 12,
   "id": "4b458419",
   "metadata": {},
   "outputs": [
    {
     "data": {
      "text/plain": [
       "Ridge(alpha=1)"
      ]
     },
     "execution_count": 12,
     "metadata": {},
     "output_type": "execute_result"
    }
   ],
   "source": [
    "x = pd.DataFrame(data_lin.drop([\"claimcst0\", \"veh_value\", \"gender\", \"veh_body\", \"agecat\"], axis = 1))\n",
    "x = pd.get_dummies(data = x, drop_first = True)\n",
    "y = pd.DataFrame(data_lin[\"claimcst0\"])\n",
    "\n",
    "xTrain, xTest, yTrain, yTest = train_test_split(x, y, test_size = 0.3)\n",
    "\n",
    "ridgereg = Ridge(alpha = 1)\n",
    "\n",
    "ridgereg.fit(xTrain, yTrain)"
   ]
  },
  {
   "cell_type": "code",
   "execution_count": 13,
   "id": "9819da80",
   "metadata": {},
   "outputs": [
    {
     "name": "stdout",
     "output_type": "stream",
     "text": [
      "Goodness of Fit of Model \tTrain Dataset\n",
      "Explained Variance (R^2) \t: 0.3508880612044325\n",
      "Mean Squared Error (MSE) \t: 21429056.08850205\n",
      "\n",
      "Goodness of Fit of Model \tTest Dataset\n",
      "Explained Variance (R^2) \t: 0.30189167900624014\n",
      "Mean Squared Error (MSE) \t: 20530700.72797526\n",
      "\n"
     ]
    }
   ],
   "source": [
    "yTrain_pred = ridgereg.predict(xTrain)\n",
    "yTest_pred = ridgereg.predict(xTest)\n",
    "\n",
    "print(\"Goodness of Fit of Model \\tTrain Dataset\")\n",
    "print(\"Explained Variance (R^2) \\t:\", ridgereg.score(xTrain, yTrain))\n",
    "print(\"Mean Squared Error (MSE) \\t:\", mean_squared_error(yTrain, yTrain_pred))\n",
    "print()\n",
    "\n",
    "# Check the Goodness of Fit (on Test Data)\n",
    "print(\"Goodness of Fit of Model \\tTest Dataset\")\n",
    "print(\"Explained Variance (R^2) \\t:\", ridgereg.score(xTest, yTest))\n",
    "print(\"Mean Squared Error (MSE) \\t:\", mean_squared_error(yTest, yTest_pred))\n",
    "print()"
   ]
  },
  {
   "cell_type": "code",
   "execution_count": null,
   "id": "06677e03",
   "metadata": {},
   "outputs": [],
   "source": []
  },
  {
   "cell_type": "code",
   "execution_count": null,
   "id": "8d043acb",
   "metadata": {},
   "outputs": [],
   "source": []
  },
  {
   "cell_type": "code",
   "execution_count": null,
   "id": "1ff06dfa",
   "metadata": {},
   "outputs": [],
   "source": []
  },
  {
   "cell_type": "code",
   "execution_count": null,
   "id": "afb521a3",
   "metadata": {},
   "outputs": [],
   "source": []
  },
  {
   "cell_type": "code",
   "execution_count": null,
   "id": "8f920dd3",
   "metadata": {},
   "outputs": [],
   "source": []
  },
  {
   "cell_type": "code",
   "execution_count": null,
   "id": "815862a8",
   "metadata": {},
   "outputs": [],
   "source": []
  },
  {
   "cell_type": "code",
   "execution_count": null,
   "id": "29f862dc",
   "metadata": {},
   "outputs": [],
   "source": []
  }
 ],
 "metadata": {
  "kernelspec": {
   "display_name": "Python 3 (ipykernel)",
   "language": "python",
   "name": "python3"
  },
  "language_info": {
   "codemirror_mode": {
    "name": "ipython",
    "version": 3
   },
   "file_extension": ".py",
   "mimetype": "text/x-python",
   "name": "python",
   "nbconvert_exporter": "python",
   "pygments_lexer": "ipython3",
   "version": "3.9.12"
  }
 },
 "nbformat": 4,
 "nbformat_minor": 5
}
